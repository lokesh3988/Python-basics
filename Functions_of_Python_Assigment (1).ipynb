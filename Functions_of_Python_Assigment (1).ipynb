{
  "nbformat": 4,
  "nbformat_minor": 0,
  "metadata": {
    "colab": {
      "provenance": []
    },
    "kernelspec": {
      "name": "python3",
      "display_name": "Python 3"
    },
    "language_info": {
      "name": "python"
    }
  },
  "cells": [
    {
      "cell_type": "markdown",
      "metadata": {
        "id": "view-in-github"
      },
      "source": [
        "<a href=\"https://colab.research.google.com/github/araj116/data-structure/blob/main/Functions_of_Python_Assigment.ipynb\" target=\"_parent\"><img src=\"https://colab.research.google.com/assets/colab-badge.svg\" alt=\"Open In Colab\"/></a>"
      ]
    },
    {
      "cell_type": "code",
      "execution_count": 1,
      "metadata": {
        "id": "7V1jpFHzlvbM"
      },
      "outputs": [],
      "source": [
        "# 1.What is the difference between a function and a method in Python?\n",
        "#Function\n",
        "#Definition: A function is a standalone block of reusable code that performs a specific task. It can take parameters and return a value.\n",
        "#Usage: Functions are defined using the def keyword and can be called from anywhere in the code.\n",
        "def add(a, b):\n",
        "    return a + b\n",
        "#Method\n",
        "#Definition: A method is similar to a function but is associated with an object. It is defined within a class and usually operates on the data contained within that class (its attributes).\n",
        "#Usage: Methods are called on objects of the class and can access or modify the object’s attributes.\n",
        "class Calculator:\n",
        "    def add(self, a, b):\n",
        "        return a + b\n",
        "\n",
        "calc = Calculator()\n",
        "result = calc.add(3, 5)\n",
        "\n",
        "#Key Differences\n",
        "#Context: Functions are independent, while methods are tied to the objects of a class.\n",
        "#First Parameter: Methods typically have self (or cls for class methods) as their first parameter, which refers to the instance of the class.\n",
        "#In summary, all methods are functions, but not all functions are methods."
      ]
    },
    {
      "cell_type": "code",
      "source": [
        "# 2. Explain the concept of function arguments and parameters in Python.\n",
        "#Parameters\n",
        "\n",
        "#Definition: Parameters are the variables defined in a function declaration. They act as placeholders for the values that will be passed to the function when it is called.\n",
        "\n",
        "#Examples\n",
        "def greet(name):  # 'name' is a parameter\n",
        "    print(f\"Hello, {name}!\")\n",
        "    #Arguments\n",
        "\n",
        "#Definition: Arguments are the actual values you provide to a function when you call it. These values replace the parameters defined in the function.\n",
        "\n",
        "#Examples\n",
        "greet(\"Alice\")  # \"Alice\" is an argument\n",
        "\n",
        "#Types of Arguments\n",
        "\n",
        "#1 Positional Arguments: These are the most common. The order of the arguments matters.\n",
        "def add(a, b):\n",
        "    return a + b\n",
        "result = add(2, 3)  # 2 and 3 are positional arguments\n",
        "#2- Keyword Arguments: You can specify arguments by name, allowing you to pass them in any order.\n",
        "def display_info(name, age):\n",
        "    print(f\"{name} is {age} years old.\")\n",
        "display_info(age=30, name=\"Bob\")  # Using keyword arguments\n",
        "#3- Default Arguments: You can provide default values for parameters. If no argument is passed, the default value is used.\n",
        "def greet(name=\"Guest\"):\n",
        "    print(f\"Hello, {name}!\")\n",
        "greet()  # Uses default value \"Guest\"\n",
        "#4- Variable-Length Arguments: You can accept a variable number of arguments using *args for positional arguments and **kwargs for keyword arguments.\n",
        "def add_all(*args):  # Accepts any number of positional arguments\n",
        "    return sum(args)\n",
        "\n",
        "def print_info(**kwargs):  # Accepts any number of keyword arguments\n",
        "    for key, value in kwargs.items():\n",
        "        print(f\"{key}: {value}\")\n",
        "\n",
        "print(add_all(1, 2, 3))  # Output: 6\n",
        "print_info(name=\"Alice\", age=25)  # Output: name: Alice, age: 25\n",
        "\n",
        "#Summary\n",
        "\n",
        "#Parameters are defined in the function declaration, while arguments are the actual values passed when calling the function.\n",
        "\n",
        "#Python supports several types of arguments, including positional, keyword, default, and variable-length arguments, allowing for flexible function definitions and calls.\n",
        "\n",
        "\n"
      ],
      "metadata": {
        "colab": {
          "base_uri": "https://localhost:8080/"
        },
        "id": "slD4GLHZoMBJ",
        "outputId": "39053dc2-3bda-4a7b-ff50-31c9c41596af"
      },
      "execution_count": 2,
      "outputs": [
        {
          "output_type": "stream",
          "name": "stdout",
          "text": [
            "Hello, Alice!\n",
            "Bob is 30 years old.\n",
            "Hello, Guest!\n",
            "6\n",
            "name: Alice\n",
            "age: 25\n"
          ]
        }
      ]
    },
    {
      "cell_type": "code",
      "source": [
        "# 3. What are the different ways to define and call a function in Python?\n",
        "#1. Standard Function Definition\n",
        "#You can define a function using the def keyword, followed by the function name and parentheses containing parameters.\n",
        "\n",
        "#Definition:\n",
        "\n",
        "\n",
        "def greet(name):\n",
        "    print(f\"Hello, {name}!\")\n",
        "\n",
        "#Calling:\n",
        "\n",
        "greet(\"Alice\")  # Output: Hello, Alice!\n",
        "\n",
        "#2. Function with Default Parameters\n",
        "#You can define functions with default parameter values.\n",
        "\n",
        "#Definition:\n",
        "\n",
        "def greet(name=\"Guest\"):\n",
        "    print(f\"Hello, {name}!\")\n",
        "\n",
        "#Calling:\n",
        "\n",
        "greet()          # Output: Hello, Guest!\n",
        "greet(\"Bob\")    # Output: Hello, Bob!\n",
        "\n",
        "#3. Function with Variable-Length Arguments\n",
        "#You can define functions that accept a variable number of positional (*args) or keyword arguments (**kwargs).\n",
        "\n",
        "#Definition:\n",
        "\n",
        "def add_all(*args):\n",
        "    return sum(args)\n",
        "\n",
        "def print_info(**kwargs):\n",
        "    for key, value in kwargs.items():\n",
        "        print(f\"{key}: {value}\")\n",
        "\n",
        "#Calling:\n",
        "\n",
        "result = add_all(1, 2, 3, 4)  # Output: 10\n",
        "print_info(name=\"Alice\", age=25)  # Output: name: Alice, age: 25\n",
        "\n",
        "#4. Lambda Functions\n",
        "#You can create small anonymous functions using the lambda keyword. These are often used for short, throwaway functions.\n",
        "\n",
        "#Definition and Calling:\n",
        "square = lambda x: x ** 2\n",
        "print(square(5))  # Output: 25\n",
        "\n",
        "#5. 5. Function as First-Class Citizens\n",
        "#Functions in Python can be assigned to variables, passed as arguments, and returned from other functions.\n",
        "\n",
        "#Example:\n",
        "\n",
        "def square(x):\n",
        "    return x ** 2\n",
        "\n",
        "def apply_function(func, value):\n",
        "    return func(value)\n",
        "\n",
        "result = apply_function(square, 4)  # Output: 16\n",
        "\n",
        "#Summary\n",
        "\n",
        "#You can define functions in Python using standard definitions, default parameters, variable-length arguments, lambda expressions, and as methods in classes. Each approach has its use cases, providing flexibility for different programming needs."
      ],
      "metadata": {
        "colab": {
          "base_uri": "https://localhost:8080/"
        },
        "id": "POYXLaxktG0g",
        "outputId": "7e35b213-c7c7-4507-ebd9-39bb2d3e47a2"
      },
      "execution_count": 3,
      "outputs": [
        {
          "output_type": "stream",
          "name": "stdout",
          "text": [
            "Hello, Alice!\n",
            "Hello, Guest!\n",
            "Hello, Bob!\n",
            "name: Alice\n",
            "age: 25\n",
            "25\n"
          ]
        }
      ]
    },
    {
      "cell_type": "code",
      "source": [
        "#4. What is the purpose of the `return` statement in a Python function?\n",
        "\n",
        "#The return statement in a Python function serves several important purposes:\n",
        "\n",
        "#1. Returning Values\n",
        "#The primary purpose of the return statement is to send a value back to the caller of the function. This allows the function to produce an output that can be used elsewhere in your program.\n",
        "\n",
        "#Example:\n",
        "\n",
        "def add(a, b):\n",
        "    return a + b\n",
        "\n",
        "result = add(3, 5)  # result now holds the value 8\n",
        "#2. Exiting the Function\n",
        "#When the return statement is executed, it immediately terminates the function. Any code after the return statement within the function won’t be executed.\n",
        "\n",
        "#Example:\n",
        "\n",
        "def example():\n",
        "    return 10\n",
        "    print(\"This won't be printed\")\n",
        "\n",
        "example()  # Only 10 is returned; nothing after return is executed\n",
        "#3. Returning Multiple Values\n",
        "#You can return multiple values from a function using commas, which will return them as a tuple.\n",
        "\n",
        "#Example:\n",
        "\n",
        "def get_coordinates():\n",
        "    return 10, 20\n",
        "\n",
        "x, y = get_coordinates()  # x = 10, y = 20\n",
        "#4. Returning None\n",
        "#If no return statement is specified, or if a return statement has no expression (i.e., return by itself), the function returns None by default.\n",
        "\n",
        "#Example:\n",
        "\n",
        "def no_return():\n",
        "    pass\n",
        "\n",
        "result = no_return()  # result is None\n",
        "\n",
        "#Summary\n",
        "#The return statement is crucial for:\n",
        "\n",
        "#Sending output from a function back to the caller.\n",
        "#Exiting the function when the desired output is ready.\n",
        "#Returning multiple values as a tuple.\n",
        "#Defaulting to None when no value is explicitly returned.\n",
        "#This makes return an essential part of defining how functions interact with the rest of your code.\n",
        "\n",
        "\n",
        "\n"
      ],
      "metadata": {
        "id": "hQi-Xs6Zt75L"
      },
      "execution_count": 4,
      "outputs": []
    },
    {
      "cell_type": "code",
      "source": [
        "#5. What are iterators in Python and how do they differ from iterables?\n",
        "\n",
        "#In Python, iterators and iterables are closely related concepts that deal with looping over data, but they serve different purposes. Here’s a breakdown of each:\n",
        "\n",
        "#In Python, iterators and iterables are closely related concepts that deal with looping over data, but they serve different purposes. Here’s a breakdown of each:\n",
        "\n",
        "#Iterables\n",
        "\n",
        "#Definition: An iterable is any Python object that can return its elements one at a time. Common examples include lists, tuples, sets, and dictionaries.\n",
        "#How it Works: An iterable implements the __iter__() method, which returns an iterator object. It can also implement the __getitem__() method to support indexing.\n",
        "#Example:\n",
        "\n",
        "my_list = [1, 2, 3]\n",
        "for item in my_list:  # my_list is iterable\n",
        "    print(item)\n",
        "\n",
        "#Iterators\n",
        "\n",
        "#Definition: An iterator is an object that represents a stream of data and returns its elements one at a time using the __next__() method. Once all elements are exhausted, calling __next__() raises a StopIteration exception.\n",
        "#How it Works: An iterator implements two methods: __iter__() (which returns the iterator object itself) and __next__() (which returns the next value).\n",
        "\n",
        "#Example:\n",
        "\n",
        "my_list = [1, 2, 3]\n",
        "my_iterator = iter(my_list)  # Creating an iterator from the iterable\n",
        "print(next(my_iterator))  # Output: 1\n",
        "print(next(my_iterator))  # Output: 2\n",
        "print(next(my_iterator))  # Output: 3\n",
        "# next(my_iterator) would raise StopIteration\n",
        "\n",
        "#Key Differences\n",
        "#Definition:\n",
        "\n",
        "#Iterable: An object that can be looped over (e.g., a list or a dictionary).\n",
        "#Iterator: An object that maintains the state of iteration and returns elements one at a time.\n",
        "\n",
        "#Methods:\n",
        "\n",
        "#Iterable: Must implement __iter__() to return an iterator.\n",
        "#Iterator: Must implement both __iter__() and __next__().\n",
        "\n",
        "#State:\n",
        "\n",
        "#Iterable: Can be iterated over multiple times. Each call to iter() creates a new iterator.\n",
        "#Iterator: Once it has been exhausted (all elements have been iterated over), it cannot be reused. You must create a new iterator from the iterable.\n",
        "\n",
        "#Summary\n",
        "\n",
        "#Iterables are objects you can iterate over, while iterators are objects that do the actual iteration.\n",
        "# An iterable can produce multiple iterators, but an iterator is designed to be\n",
        "# used once until exhausted. This distinction is essential for understanding how\n",
        "# looping and iteration work in Python."
      ],
      "metadata": {
        "colab": {
          "base_uri": "https://localhost:8080/"
        },
        "id": "rR7AYYEfJMX7",
        "outputId": "fee63503-e480-4f76-e932-c0d630605dac"
      },
      "execution_count": 5,
      "outputs": [
        {
          "output_type": "stream",
          "name": "stdout",
          "text": [
            "1\n",
            "2\n",
            "3\n",
            "1\n",
            "2\n",
            "3\n"
          ]
        }
      ]
    },
    {
      "cell_type": "code",
      "source": [
        "#6. Explain the concept of generators in Python and how they are defined.\n",
        "\n",
        "#Generators in Python are a special type of iterable that allow you to create iterators in a very efficient way. They are defined using functions and the yield statement, rather than return. Here’s a detailed explanation:\n",
        "\n",
        "#What is a Generator?\n",
        "\n",
        "#Definition: A generator is a function that produces a sequence of results lazily, meaning it generates values one at a time and only when requested, rather than computing all values at once and storing them in memory. This makes generators memory efficient, especially when working with large datasets.\n",
        "\n",
        "#How Generators Work\n",
        "\n",
        "#When a generator function is called, it does not execute the function body immediately. Instead, it returns a generator object. Each time the generator's __next__() method is called (or when the generator is iterated over), the function executes until it hits a yield statement. At that point, it yields the value and pauses its state, so the next time it is called, it resumes execution right after the last yield.\n",
        "\n",
        "#Defining a Generator\n",
        "\n",
        "#You define a generator function just like a regular function, but you use the yield keyword to yield values instead of return.\n",
        "\n",
        "#Example:\n",
        "\n",
        "def count_up_to(max):\n",
        "    count = 1\n",
        "    while count <= max:\n",
        "        yield count  # Yield the current count\n",
        "        count += 1   # Increment the count\n",
        "\n",
        "#Using a Generator\n",
        "\n",
        "#You can create a generator object by calling the generator function, and you can iterate over it using a loop or the next() function.\n",
        "\n",
        "#Example:\n",
        "\n",
        "counter = count_up_to(5)\n",
        "\n",
        "for number in counter:  # Iterating over the generator\n",
        "    print(number)\n",
        "#Output:\n",
        "\n",
        "#Copy code\n",
        "1\n",
        "2\n",
        "3\n",
        "4\n",
        "5\n",
        "#Advantages of Generators\n",
        "\n",
        "#Memory Efficiency: Generators produce items one at a time and only when needed, which is much more memory efficient than storing a large list in memory.\n",
        "\n",
        "#Simplicity: They can simplify code that deals with large sequences, making it easier to read and maintain.\n",
        "\n",
        "#Infinite Sequences: Generators can model infinite sequences because they generate values on-the-fly.\n",
        "\n",
        "#Summary\n",
        "\n",
        "#Generators are a powerful feature in Python that allows you to create iterators using functions with yield. They provide an efficient way to handle large datasets or streams of data by generating values one at a time, conserving memory and enhancing performance.\n",
        "\n",
        "\n",
        "\n"
      ],
      "metadata": {
        "colab": {
          "base_uri": "https://localhost:8080/"
        },
        "id": "O8vKa7MZLQdf",
        "outputId": "df4c0010-393c-4fc9-ef12-bea19a0dab48"
      },
      "execution_count": 6,
      "outputs": [
        {
          "output_type": "stream",
          "name": "stdout",
          "text": [
            "1\n",
            "2\n",
            "3\n",
            "4\n",
            "5\n"
          ]
        },
        {
          "output_type": "execute_result",
          "data": {
            "text/plain": [
              "5"
            ]
          },
          "metadata": {},
          "execution_count": 6
        }
      ]
    },
    {
      "cell_type": "code",
      "source": [
        "#7. What are the advantages of using generators over regular functions?\n",
        "\n",
        "#Generators offer several advantages over regular functions, particularly when it comes to managing resources and handling data efficiently. Here are the key benefits:\n",
        "\n",
        "#1. Memory Efficiency\n",
        "\n",
        "#Lazy Evaluation: Generators produce values on-the-fly and only when requested, which means they don’t store the entire sequence in memory. This is particularly advantageous for large datasets or infinite sequences.\n",
        "\n",
        "#2. Performance\n",
        "\n",
        "#Faster for Large Data: Generators can start yielding values immediately, which can lead to faster processing times in scenarios where only a subset of the data is needed. You can start processing items before the entire dataset is ready.\n",
        "\n",
        "#Reduced Overhead: There’s less overhead in creating and managing generators compared to generating and returning complete lists.\n",
        "\n",
        "#3. Infinite Sequences\n",
        "\n",
        "#Modeling Infinite Data: Generators can easily represent infinite sequences (like the Fibonacci sequence or even a stream of data) without crashing the program due to memory exhaustion, as they yield items one at a time.\n",
        "\n",
        "#4. Cleaner Code\n",
        "\n",
        "#Simplicity: Generators can make code more readable and easier to maintain, especially when dealing with complex iteration logic. The yield statement allows you to maintain state conveniently within a function.\n",
        "\n",
        "#Separation of Concerns: They can encapsulate complex iteration patterns while still being straightforward to use, enhancing code organization.\n",
        "\n",
        "#5. State Preservation\n",
        "\n",
        "#Maintain State: Generators maintain their state between successive calls. This means they can remember their execution context (like variable values) between yields, making them suitable for implementing complex stateful iterations without global variables or additional classes.\n",
        "\n",
        "#6. Iterative Processing\n",
        "\n",
        "#Pipeline Processing: Generators allow for creating data processing pipelines. You can chain multiple generators together to process data in a stepwise manner, which can improve modularity and separation of concerns.\n",
        "\n",
        "#Summary\n",
        "\n",
        "#In summary, generators provide significant advantages in terms of memory efficiency, performance, ease of modeling infinite sequences, code simplicity, state preservation, and support for iterative processing. They are a powerful tool in Python for managing and working with data, especially when dealing with large or complex datasets."
      ],
      "metadata": {
        "id": "RgbfVfeeMXjc"
      },
      "execution_count": 7,
      "outputs": []
    },
    {
      "cell_type": "code",
      "source": [
        "#8. What is a lambda function in Python and when is it typically used?\n",
        "\n",
        "#A lambda function in Python is a small, anonymous function defined using the lambda keyword. Unlike regular functions defined with def, lambda functions can have any number of arguments but only one expression. The result of that expression is automatically returned.\n",
        "\n",
        "#Syntax\n",
        "#The basic syntax of a lambda function is:\n",
        "\n",
        "lambda arguments: expression\n",
        "\n",
        "#Example\n",
        "#Here’s a simple example:\n",
        "\n",
        "add = lambda x, y: x + y\n",
        "result = add(3, 5)  # result is 8\n",
        "\n",
        "#When to Use Lambda Functions\n",
        "#Lambda functions are typically used in the following scenarios:\n",
        "\n",
        "#Short, Throwaway Functions:\n",
        "\n",
        "#When you need a simple function for a short period and don't want to formally define it using def.\n",
        "\n",
        "#Higher-Order Functions:\n",
        "\n",
        "#Lambda functions are commonly used as arguments to higher-order functions (functions that take other functions as arguments). For example, in functions like map(), filter(), and sorted().\n",
        "\n",
        "#Example with map():\n",
        "\n",
        "numbers = [1, 2, 3, 4]\n",
        "squared = list(map(lambda x: x ** 2, numbers))  # Output: [1, 4, 9, 16]\n",
        "\n",
        "#Sorting:\n",
        "\n",
        "#They can be used as key functions for sorting.\n",
        "\n",
        "#Example with sorted():\n",
        "\n",
        "points = [(1, 2), (3, 1), (5, 0)]\n",
        "sorted_points = sorted(points, key=lambda point: point[1])  # Sort by y-coordinate\n",
        "\n",
        "#Inline Functions:\n",
        "\n",
        "#When you need a simple operation that can be defined inline, lambda functions can make your code more concise.\n",
        "\n",
        "#Limitations\n",
        "\n",
        "#Single Expression: Lambda functions can only contain a single expression, which makes them less versatile than regular functions defined with def.\n",
        "\n",
        "#Readability: Overusing lambda functions can make your code harder to read, especially for complex operations. In such cases, it’s better to use a named function for clarity.\n",
        "\n",
        "#Summary\n",
        "\n",
        "#Lambda functions provide a concise way to create simple, anonymous functions on-the-fly. They are particularly useful in functional programming contexts, such as when using higher-order functions, but should be used judiciously to maintain code readability.\n",
        "\n"
      ],
      "metadata": {
        "id": "oI-2QWBKNIxd"
      },
      "execution_count": 8,
      "outputs": []
    },
    {
      "cell_type": "code",
      "source": [
        "#9. Explain the purpose and usage of the `map()` function in Python.\n",
        "\n",
        "#The map() function in Python is a built-in higher-order function that allows you to apply a specified function to each item in an iterable (like a list, tuple, or string) and return an iterator that produces the results.\n",
        "\n",
        "#Purpose of map()\n",
        "#The primary purpose of map() is to transform data by applying a function to every item in an iterable, making it a useful tool for functional programming paradigms. It helps streamline code by eliminating the need for explicit loops when performing operations on all elements of an iterable.\n",
        "\n",
        "#Syntax\n",
        "#The syntax of the map() function is:\n",
        "\n",
        "#map(function, iterable, ...)\n",
        "\n",
        "#function: The function to apply to each item in the iterable.\n",
        "#iterable: The iterable (or multiple iterables) whose items will be processed.\n",
        "#Usage\n",
        "#Here are some common ways to use map():\n",
        "\n",
        "#1. Applying a Function to an Iterable\n",
        "#You can use map() to apply a function to each element in a single iterable.\n",
        "\n",
        "#Example:\n",
        "\n",
        "numbers = [1, 2, 3, 4, 5]\n",
        "squared_numbers = list(map(lambda x: x ** 2, numbers))\n",
        "print(squared_numbers)  # Output: [1, 4, 9, 16, 25]\n",
        "\n",
        "#2. Using a Named Function\n",
        "#You can also use a named function instead of a lambda function.\n",
        "\n",
        "#Example:\n",
        "\n",
        "def square(x):\n",
        "    return x ** 2\n",
        "\n",
        "numbers = [1, 2, 3, 4, 5]\n",
        "squared_numbers = list(map(square, numbers))\n",
        "print(squared_numbers)  # Output: [1, 4, 9, 16, 25]\n",
        "\n",
        "#3. Multiple Iterables\n",
        "\n",
        "#map() can take multiple iterables as arguments. The function should accept as many arguments as there are iterables. It applies the function to the items of the iterables in parallel, stopping when the shortest iterable is exhausted.\n",
        "\n",
        "#Example:\n",
        "\n",
        "numbers1 = [1, 2, 3]\n",
        "numbers2 = [4, 5, 6]\n",
        "summed_numbers = list(map(lambda x, y: x + y, numbers1, numbers2))\n",
        "print(summed_numbers)  # Output: [5, 7, 9]\n",
        "\n",
        "#Return Value\n",
        "\n",
        "#map() returns a map object, which is an iterator. To convert it to a list or another collection, you typically wrap it in list(), tuple(), etc.\n",
        "\n",
        "#Summary\n",
        "\n",
        "#Purpose: map() is used to apply a function to each item in an iterable, facilitating data transformation.\n",
        "\n",
        "#Usage: It can accept one or more iterables and can utilize both lambda functions and named functions.\n",
        "\n",
        "#Efficiency: Using map() can lead to more concise and often more readable code compared to traditional loops, especially for transformations on large datasets."
      ],
      "metadata": {
        "colab": {
          "base_uri": "https://localhost:8080/"
        },
        "id": "h287-oQqQgRp",
        "outputId": "64064474-bbfb-47d6-d605-bc0e0cae63a5"
      },
      "execution_count": 9,
      "outputs": [
        {
          "output_type": "stream",
          "name": "stdout",
          "text": [
            "[1, 4, 9, 16, 25]\n",
            "[1, 4, 9, 16, 25]\n",
            "[5, 7, 9]\n"
          ]
        }
      ]
    },
    {
      "cell_type": "code",
      "source": [
        "#10. What is the difference between `map()`, `reduce()`, and `filter()` functions in Python?\n",
        "\n",
        "#In Python, map(), reduce(), and filter() are all higher-order functions that operate on iterables, but they serve different purposes and have distinct behaviors. Here’s a breakdown of each:\n",
        "\n",
        "#1. map()\n",
        "\n",
        "#Purpose: Transforms each item in an iterable by applying a specified function to it.\n",
        "\n",
        "#Return Value: Returns an iterator (or map object) that produces the transformed items.\n",
        "\n",
        "#Usage: Commonly used for applying a function to all elements in a list or other iterable.\n",
        "\n",
        "#Example:\n",
        "\n",
        "numbers = [1, 2, 3, 4]\n",
        "squared = list(map(lambda x: x ** 2, numbers))  # Output: [1, 4, 9, 16]\n",
        "\n",
        "#2. filter()\n",
        "\n",
        "#Purpose: Filters items from an iterable based on a specified condition (function that returns True or False).\n",
        "\n",
        "#Return Value: Returns an iterator (or filter object) containing only the items that meet the condition.\n",
        "\n",
        "#Usage: Useful for creating a subset of an iterable by including only elements that satisfy a given criterion.\n",
        "\n",
        "#Example:\n",
        "\n",
        "numbers = [1, 2, 3, 4]\n",
        "even_numbers = list(filter(lambda x: x % 2 == 0, numbers))  # Output: [2, 4]\n",
        "\n",
        "#3. reduce()\n",
        "\n",
        "#Purpose: Applies a binary function (a function that takes two arguments) cumulatively to the items of an iterable, reducing it to a single cumulative value.\n",
        "\n",
        "#Return Value: Returns a single value, which is the result of applying the function to the iterable's items.\n",
        "\n",
        "#Usage: Commonly used for aggregating values (e.g., summing, multiplying).\n",
        "\n",
        "#Note: reduce() is not a built-in function in Python 3; it is available in the functools module.\n",
        "\n",
        "#Example:\n",
        "\n",
        "#from functools import reduce\n",
        "\n",
        "numbers = [1, 2, 3, 4]\n",
        "#product = reduce(lambda x, y: x * y, numbers)  # Output: 24 (1*2*3*4)\n",
        "\n",
        "#Key Differences\n",
        "\n",
        "#Function Type:\n",
        "\n",
        "#map(): Takes a single function and applies it to each item.\n",
        "#filter(): Takes a function that returns a boolean and filters the items based on that condition.\n",
        "#reduce(): Takes a binary function and reduces the iterable to a single cumulative value.\n",
        "\n",
        "#Return Value:\n",
        "\n",
        "#map(): Returns an iterable of transformed items.\n",
        "\n",
        "#filter(): Returns an iterable of filtered items.\n",
        "\n",
        "#reduce(): Returns a single value.\n",
        "\n",
        "#Use Cases:\n",
        "\n",
        "#map(): Use when you need to transform data.\n",
        "\n",
        "#filter(): Use when you need to select a subset of data.\n",
        "\n",
        "#reduce(): Use when you need to combine data into a single result.\n",
        "\n",
        "#Summary\n",
        "\n",
        "#map() transforms data, filter() selects data based on a condition, and reduce() aggregates data into a single value. Each function has its specific use cases and can make your code more concise and expressive when working with iterables."
      ],
      "metadata": {
        "id": "BbbgzBH8SDVa"
      },
      "execution_count": 10,
      "outputs": []
    },
    {
      "cell_type": "code",
      "source": [],
      "metadata": {
        "id": "D7Nozbv9D-gY"
      },
      "execution_count": null,
      "outputs": []
    },
    {
      "cell_type": "code",
      "source": [
        "# PRACTICAL QUESTION"
      ],
      "metadata": {
        "id": "5c6U_SsEAR6m"
      },
      "execution_count": null,
      "outputs": []
    },
    {
      "cell_type": "code",
      "source": [
        "# 1. Write a Python function that takes a list of numbers as input and returns the sum of all even numbers in the list.\n",
        "\n",
        "#Here’s a Python function that takes a list of numbers as input and returns the sum of all even numbers in that list:\n",
        "\n",
        "def sum_of_even_numbers(numbers):\n",
        "    # Use a generator expression to filter and sum even numbers\n",
        "    return sum(num for num in numbers if num % 2 == 0)\n",
        "\n",
        "# Example usage:\n",
        "numbers = [47, 11, 42, 13, 8, 20]\n",
        "result = sum_of_even_numbers(numbers)\n",
        "print(result)  # Output: 70 (42 + 8 + 20)\n"
      ],
      "metadata": {
        "colab": {
          "base_uri": "https://localhost:8080/"
        },
        "id": "HD-HgrArTxqf",
        "outputId": "b8f8caa8-b895-4c61-f5d0-9b46a5dafed1"
      },
      "execution_count": 11,
      "outputs": [
        {
          "output_type": "stream",
          "name": "stdout",
          "text": [
            "70\n"
          ]
        }
      ]
    },
    {
      "cell_type": "code",
      "source": [
        "#2. Create a Python function that accepts a string and returns the reverse of that string.\n",
        "\n",
        "#Here’s a simple Python function that takes a string as input and returns the reversed version of that string:\n",
        "\n",
        "def reverse_string(s):\n",
        "    return s[::-1]\n",
        "\n",
        "# Example usage:\n",
        "\n",
        "input_string = \"Hello, World!\"\n",
        "reversed_string = reverse_string(input_string)\n",
        "print(reversed_string)  # Output: !dlroW ,olleH"
      ],
      "metadata": {
        "colab": {
          "base_uri": "https://localhost:8080/"
        },
        "id": "F-m_oqB2AHv1",
        "outputId": "b25b4b53-f576-4e1f-9218-7afb14854fbb"
      },
      "execution_count": 12,
      "outputs": [
        {
          "output_type": "stream",
          "name": "stdout",
          "text": [
            "!dlroW ,olleH\n"
          ]
        }
      ]
    },
    {
      "cell_type": "code",
      "source": [
        "#.3. Implement a Python function that takes a list of integers and returns a new list containing the squares of each number.\n",
        "\n",
        "#Here’s a Python function that takes a list of integers and returns a new list containing the squares of each number:\n",
        "\n",
        "def square_numbers(numbers):\n",
        "    return [num ** 2 for num in numbers]\n",
        "\n",
        "# Example usage:\n",
        "input_list = [1, 2, 3, 4, 5]\n",
        "squared_list = square_numbers(input_list)\n",
        "print(squared_list)  # Output: [1, 4, 9, 16, 25]\n"
      ],
      "metadata": {
        "colab": {
          "base_uri": "https://localhost:8080/"
        },
        "id": "O2E9g3PTAYBj",
        "outputId": "a2709daa-9ca1-41aa-ba1e-8d0ef97f373f"
      },
      "execution_count": 13,
      "outputs": [
        {
          "output_type": "stream",
          "name": "stdout",
          "text": [
            "[1, 4, 9, 16, 25]\n"
          ]
        }
      ]
    },
    {
      "cell_type": "code",
      "source": [
        "#4. Write a Python function that checks if a given number is prime or not from 1 to 200.\n",
        "\n",
        "#Here’s a Python function that checks if a given number is prime, specifically for numbers in the range from 1 to 200:\n",
        "\n",
        "def is_prime(num):\n",
        "    if num <= 1:\n",
        "        return False\n",
        "    for i in range(2, int(num**0.5) + 1):\n",
        "        if num % i == 0:\n",
        "            return False\n",
        "    return True\n",
        "\n",
        "# Example usage:\n",
        "for number in range(1, 201):\n",
        "    if is_prime(number):\n",
        "        print(f\"{number} is prime\")\n"
      ],
      "metadata": {
        "colab": {
          "base_uri": "https://localhost:8080/"
        },
        "collapsed": true,
        "id": "P3SBvTf6BMWd",
        "outputId": "a8c4ecd5-098f-464a-ff18-5799c1452a9e"
      },
      "execution_count": 14,
      "outputs": [
        {
          "output_type": "stream",
          "name": "stdout",
          "text": [
            "2 is prime\n",
            "3 is prime\n",
            "5 is prime\n",
            "7 is prime\n",
            "11 is prime\n",
            "13 is prime\n",
            "17 is prime\n",
            "19 is prime\n",
            "23 is prime\n",
            "29 is prime\n",
            "31 is prime\n",
            "37 is prime\n",
            "41 is prime\n",
            "43 is prime\n",
            "47 is prime\n",
            "53 is prime\n",
            "59 is prime\n",
            "61 is prime\n",
            "67 is prime\n",
            "71 is prime\n",
            "73 is prime\n",
            "79 is prime\n",
            "83 is prime\n",
            "89 is prime\n",
            "97 is prime\n",
            "101 is prime\n",
            "103 is prime\n",
            "107 is prime\n",
            "109 is prime\n",
            "113 is prime\n",
            "127 is prime\n",
            "131 is prime\n",
            "137 is prime\n",
            "139 is prime\n",
            "149 is prime\n",
            "151 is prime\n",
            "157 is prime\n",
            "163 is prime\n",
            "167 is prime\n",
            "173 is prime\n",
            "179 is prime\n",
            "181 is prime\n",
            "191 is prime\n",
            "193 is prime\n",
            "197 is prime\n",
            "199 is prime\n"
          ]
        }
      ]
    },
    {
      "cell_type": "code",
      "source": [
        "#5.Create an iterator class in Python that generates the Fibonacci sequence up to a specified number of terms.\n",
        "\n",
        "#Here’s how you can create an iterator class in Python that generates the Fibonacci sequence up to a specified number of terms:\n",
        "\n",
        "class FibonacciIterator:\n",
        "    def __init__(self, n):\n",
        "        self.n = n  # Number of terms to generate\n",
        "        self.a, self.b = 0, 1  # Starting values of Fibonacci sequence\n",
        "        self.count = 0  # Counter to keep track of terms generated\n",
        "\n",
        "    def __iter__(self):\n",
        "        return self\n",
        "\n",
        "    def __next__(self):\n",
        "        if self.count < self.n:\n",
        "            fib_number = self.a\n",
        "            self.a, self.b = self.b, self.a + self.b  # Update values for the next term\n",
        "            self.count += 1  # Increment the count\n",
        "            return fib_number\n",
        "        else:\n",
        "            raise StopIteration  # Stop the iteration when n terms are generated\n",
        "\n",
        "# Example usage:\n",
        "fib = FibonacciIterator(10)  # Generate first 10 Fibonacci numbers\n",
        "for number in fib:\n",
        "    print(number)\n",
        "\n"
      ],
      "metadata": {
        "colab": {
          "base_uri": "https://localhost:8080/"
        },
        "id": "c3xVNX64CDGr",
        "outputId": "2deb32bf-2e74-4790-87d5-98a04ae2d385"
      },
      "execution_count": 16,
      "outputs": [
        {
          "output_type": "stream",
          "name": "stdout",
          "text": [
            "0\n",
            "1\n",
            "1\n",
            "2\n",
            "3\n",
            "5\n",
            "8\n",
            "13\n",
            "21\n",
            "34\n"
          ]
        }
      ]
    },
    {
      "cell_type": "code",
      "source": [
        "#6. Write a generator function in Python that yields the powers of 2 up to a given exponent.\n",
        "\n",
        "# Here’s a Python generator function that yields the powers of 2 up to a given exponent:\n",
        "\n",
        "def powers_of_two(exponent):\n",
        "    for i in range(exponent + 1):\n",
        "        yield 2 ** i\n",
        "\n",
        "# Example usage:\n",
        "for power in powers_of_two(5):\n",
        "    print(power)\n"
      ],
      "metadata": {
        "colab": {
          "base_uri": "https://localhost:8080/"
        },
        "id": "b80Ze_CMCbhl",
        "outputId": "8d63461c-1428-479e-b47d-59c7136ab4bf"
      },
      "execution_count": 17,
      "outputs": [
        {
          "output_type": "stream",
          "name": "stdout",
          "text": [
            "1\n",
            "2\n",
            "4\n",
            "8\n",
            "16\n",
            "32\n"
          ]
        }
      ]
    },
    {
      "cell_type": "code",
      "source": [
        "#7. Implement a generator function that reads a file line by line and yields each line as a string\n",
        "\n",
        "#Here's a Python generator function that reads a file line by line and yields each line as a string:\n",
        "def read_file_line_by_line(file_path):\n",
        "    with open(file_path, 'r') as file:\n",
        "        for line in file:\n",
        "            yield line.rstrip('\\n')  # Yield the line without the newline character\n"
      ],
      "metadata": {
        "id": "bnr5Cd--C_HX"
      },
      "execution_count": 18,
      "outputs": []
    },
    {
      "cell_type": "code",
      "source": [
        " #8. Use a lambda function in Python to sort a list of tuples based on the second element of each tuple.\n",
        "\n",
        "# You can use a lambda function in Python to sort a list of tuples based on the second element of each tuple by passing it as the `key` argument to the `sorted()` function. Here’s how you can do it:\n",
        "\n",
        "# Sample list of tuples\n",
        "data = [(1, 'banana'), (3, 'apple'), (2, 'cherry'), (4, 'date')]\n",
        "\n",
        "# Sorting the list based on the second element of each tuple\n",
        "sorted_data = sorted(data, key=lambda x: x[1])\n",
        "\n",
        "# Example output\n",
        "print(sorted_data)\n"
      ],
      "metadata": {
        "colab": {
          "base_uri": "https://localhost:8080/"
        },
        "id": "dCTZSe3QDPsI",
        "outputId": "eb9f41e9-0c6c-4006-bc77-0b7bf9eba2f3"
      },
      "execution_count": 19,
      "outputs": [
        {
          "output_type": "stream",
          "name": "stdout",
          "text": [
            "[(3, 'apple'), (1, 'banana'), (2, 'cherry'), (4, 'date')]\n"
          ]
        }
      ]
    },
    {
      "cell_type": "code",
      "source": [
        "#9. Write a Python program that uses `map()` to convert a list of temperatures from Celsius to Fahrenheit.\n",
        "\n",
        "#Here’s a Python program that uses `map()` to convert a list of temperatures from Celsius to Fahrenheit:\n",
        "\n",
        "# Function to convert Celsius to Fahrenheit\n",
        "def celsius_to_fahrenheit(celsius):\n",
        "    return (celsius * 9/5) + 32\n",
        "\n",
        "# List of temperatures in Celsius\n",
        "celsius_temperatures = [0, 20, 37, 100, -10]\n",
        "\n",
        "# Using map to convert Celsius to Fahrenheit\n",
        "fahrenheit_temperatures = list(map(celsius_to_fahrenheit, celsius_temperatures))\n",
        "\n",
        "# Example output\n",
        "print(fahrenheit_temperatures)\n"
      ],
      "metadata": {
        "colab": {
          "base_uri": "https://localhost:8080/"
        },
        "id": "Izdgzbf9E1-4",
        "outputId": "c81fdf86-dc0f-4903-e669-ae94b8d940bf"
      },
      "execution_count": 20,
      "outputs": [
        {
          "output_type": "stream",
          "name": "stdout",
          "text": [
            "[32.0, 68.0, 98.6, 212.0, 14.0]\n"
          ]
        }
      ]
    },
    {
      "cell_type": "code",
      "source": [
        " #10. Create a Python program that uses `filter()` to remove all the vowels from a given string.\n",
        "\n",
        " #Here’s a Python program that uses `filter()` to remove all the vowels from a given string:\n",
        "\n",
        "def remove_vowels(input_string):\n",
        "    # Define the vowels\n",
        "    vowels = 'aeiouAEIOU'\n",
        "\n",
        "    # Use filter to exclude vowels from the string\n",
        "    result = ''.join(filter(lambda x: x not in vowels, input_string))\n",
        "\n",
        "    return result"
      ],
      "metadata": {
        "id": "Aepw6OyWFPII"
      },
      "execution_count": 28,
      "outputs": []
    },
    {
      "cell_type": "code",
      "source": [
        "orders = [\n",
        "    [\"34587\", \"Learning Python, Mark Lutz\", 4, 40.95],\n",
        "    [\"98762\", \"Programming Python, Mark Lutz\", 5, 56.80],\n",
        "    [\"77226\", \"Head First Python, Paul Barry\", 3, 32.95],\n",
        "    [\"88112\", \"Einführung in Python3, Bernd Klein\", 3, 24.99]\n",
        "]\n",
        "\n",
        "# Define the minimum order value for applying the surcharge\n",
        "min_order = 100  # Example threshold for the minimum order amount\n",
        "\n",
        "# Apply the logic using map and lambda functions\n",
        "invoice_totals = list(map(\n",
        "    lambda x: x if x[1] >= min_order else (x[0], x[1] + 10),\n",
        "    map(lambda x: (x[0], x[2] * x[3]), orders)\n",
        "))\n",
        "\n",
        "# Print the result\n",
        "print(invoice_totals)"
      ],
      "metadata": {
        "colab": {
          "base_uri": "https://localhost:8080/"
        },
        "id": "jZLGywcHCGmE",
        "outputId": "7c85ca41-a559-4439-b4af-9bf2ab1e15cd"
      },
      "execution_count": 31,
      "outputs": [
        {
          "output_type": "stream",
          "name": "stdout",
          "text": [
            "[('34587', 163.8), ('98762', 284.0), ('77226', 108.85000000000001), ('88112', 84.97)]\n"
          ]
        }
      ]
    },
    {
      "cell_type": "code",
      "source": [],
      "metadata": {
        "id": "guoBu8zWDHOV"
      },
      "execution_count": null,
      "outputs": []
    }
  ]
}