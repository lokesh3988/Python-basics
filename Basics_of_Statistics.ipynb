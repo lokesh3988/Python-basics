{
  "nbformat": 4,
  "nbformat_minor": 0,
  "metadata": {
    "colab": {
      "provenance": []
    },
    "kernelspec": {
      "name": "python3",
      "display_name": "Python 3"
    },
    "language_info": {
      "name": "python"
    }
  },
  "cells": [
    {
      "cell_type": "markdown",
      "source": [
        "# Assignment Questions"
      ],
      "metadata": {
        "id": "GrZTxQHK0Rpn"
      }
    },
    {
      "cell_type": "markdown",
      "source": [
        "## Basics of Statistics\n",
        "-----------------------------------------------------------------\n",
        "Q1. Explain the different types of data (qualitative and quantitative) and provide examples of each. Discuss nominal, ordinal, interval, and ratio scales.\n",
        "- Qualitative data describes categories or qualities, such as `colors (e.g., red, blue)` or `names (e.g., Avinesh, Anshika)`. Quantitative data represents numerical values, such as `height (e.g., 170 cm)` or `weight (e.g., 65 kg)`. Nominal scale: categories without order, such as `gender (e.g., male, female)`. Ordinal scale: ordered categories, such as `rankings (e.g., 1st, 2nd, 3rd)`. Interval scale: numerical values with equal intervals but no true zero, such as temperature in Celsius. Ratio scale: numerical values with a true zero, such as age or income.\n",
        "-----------------------------------------------------------------\n",
        "Q2. What are the measures of central tendency, and when should you use each? Discuss the mean, median, and mode with examples and situations where each is appropriate.\n",
        "- Mean: the average value, calculated by summing all values and dividing by the number of values. It is used for symmetric distributions without outliers. For example, the mean of `[1, 2, 3, 4, 5]` is `3`. Median: the middle value when data is ordered, used for skewed distributions or with outliers. For example, the median of `[1, 2, 3, 4, 100]` is 3. Mode: the most frequent value, used for categorical data or to identify common values.\n",
        "- **For example**, the mode of `[1, 2, 2, 3, 4]` is `2`.\n",
        "-----------------------------------------------------------------\n",
        "Q3. Explain the concept of dispersion. How do variance and standard deviation measure the spread of data?\n",
        "- Dispersion measures the spread of data around the central value. Variance is the average squared deviation from the mean, indicating how much the values differ from the mean. Standard deviation is the square root of variance, providing a measure of the average distance from the mean. For example, for the dataset `[1, 2, 3, 4, 5]`, the variance is `2.5` and the standard deviation is approximately `1.58`.\n",
        "-----------------------------------------------------------------\n",
        "Q4. What is a box plot, and what can it tell you about the distribution of data?\n",
        "- A box plot visualizes data distribution using quartiles. It shows the median, interquartile range (IQR), and potential outliers. The box represents the IQR, the line inside the box represents the median, and the whiskers extend to the minimum and maximum values within `1.5*IQR`. Outliers are plotted as individual points. Box plots can reveal the central tendency, spread, and skewness of the data.\n",
        "-----------------------------------------------------------------\n",
        "Q5. Discuss the role of random sampling in making inferences about populations.\n",
        "- Random sampling ensures each member of a population has an equal chance of selection, reducing bias and allowing for generalization of results to the entire population. It is crucial for making valid inferences about the population based on sample data.\n",
        "- For example, in a survey, random sampling helps ensure that the sample represents the diversity of the population, leading to more accurate conclusions.\n",
        "-----------------------------------------------------------------\n",
        "Q6. Explain the concept of skewness and its types. How does skewness affect the interpretation of data?\n",
        "- Skewness measures the asymmetry of data distribution. Positive skewness indicates a longer tail on the right side, while negative skewness indicates a longer tail on the left side. Skewness affects the interpretation of data by influencing the mean and median relationship. In positively skewed data, the mean is greater than the median, while in negatively skewed data, the mean is less than the median. For example, income distribution is often positively skewed, with a few high earners pulling the mean higher than the median.\n",
        "-----------------------------------------------------------------\n",
        "Q7. What is the interquartile range (IQR), and how is it used to detect outliers?\n",
        "- IQR is the range between the first quartile (Q1) and the third quartile (Q3), representing the middle 50% of the data. It is used to detect outliers by identifying values that fall below `Q1 - 1.5*IQR` or `above Q3 + 1.5*IQR`. For example, in the dataset `[1, 2, 3, 4, 5, 6, 7, 8, 9, 10]`, `Q1 is 3` , `Q3 is 8`, and `IQR is 5`. Values below `-4.5` or above `15.5` would be considered outliers.\n",
        "-----------------------------------------------------------------\n",
        "Q8. Discuss the conditions under which the binomial distribution is used.\n",
        "- Binomial distribution applies to experiments with fixed trials, two possible outcomes `success/failure`, constant probability of success, and independent trials.\n",
        "- **For example**, flipping a coin 10 times and counting the number of heads follows a binomial distribution with n=10 trials and p=0.5 probability of success `heads`.\n",
        "-----------------------------------------------------------------\n",
        "Q9. Explain the properties of the normal distribution and the empirical rule `(68-95-99.7 rule)`.\n",
        "- Normal distribution is symmetric, bell-shaped, with mean = median = mode. It describes many natural phenomena, such as heights or test scores. The empirical rule states that approximately 68% of data falls within 1 standard deviation (SD) of the mean, 95% within 2 SD, and 99.7% within 3 SD.\n",
        "- **For example**, if the mean test score is 70 with an SD of 10, about 68% of scores will be between 60 and 80.\n",
        "-----------------------------------------------------------------\n",
        "Q10. Provide a real-life example of a Poisson process and calculate the probability for a specific event.\n",
        "- **Example:** Number of emails received per hour. If `λ = 5 emails/hour`, the probability of receiving exactly 3 emails in an hour is calculated using the Poisson formula: `P(X=3) = (e^(-5) * 5^3) / 3! ≈ 0.1404`. This indicates a 14.04% chance of receiving exactly 3 emails in an hour.\n",
        "-----------------------------------------------------------------\n",
        "Q11. Explain what a random variable is and differentiate between discrete and continuous random variables.\n",
        "- A random variable represents possible outcomes of a random process. Discrete random variables have countable outcomes, such as the number of students in a class. Continuous random variables have infinite outcomes within a range, such as height or weight. For example, the number of cars passing through a toll booth in an hour is a discrete random variable, while the time taken for a chemical reaction is a continuous random variable.\n",
        "-----------------------------------------------------------------\n",
        "Q12. Provide an example dataset, calculate both covariance and correlation, and interpret the results.\n",
        "- **Example** dataset: `X = [1, 2, 3]` , `Y = [4, 5, 6]`. Covariance measures the joint variability of two variables. For `X and Y` , `covariance is 1` , indicating a positive relationship. Correlation standardizes covariance, `ranging from -1 to 1`. For X and Y, correlation is 1, indicating a perfect positive linear relationship. This means as `X increases, Y also increases proportionally`.\n",
        "-----------------------------------------------------------------\n"
      ],
      "metadata": {
        "id": "x57v3p6v0jTn"
      }
    }
  ]
}