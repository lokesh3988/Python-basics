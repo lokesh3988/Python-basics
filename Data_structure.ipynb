{
  "nbformat": 4,
  "nbformat_minor": 0,
  "metadata": {
    "colab": {
      "provenance": []
    },
    "kernelspec": {
      "name": "python3",
      "display_name": "Python 3"
    },
    "language_info": {
      "name": "python"
    }
  },
  "cells": [
    {
      "cell_type": "markdown",
      "source": [
        "1. What are data structures, and why are they important?  \n",
        "    Data structures are ways of organizing, managing, and storing data so that it can be accessed and used efficiently. They provide a systematic way to handle data, making it easier to perform operations such as searching, sorting, and updating.\n",
        "\n",
        "  \n",
        "Efficiency: They optimize resource use, allowing programs to run faster and use less memory.\n",
        "Organization: They help organize and structure data logically, making it easier to manipulate.\n",
        "Scalability: Efficient data structures enable applications to scale by handling large amounts of data.\n",
        "Problem Solving: They provide the tools needed to solve complex computational problems.\n",
        "Foundation for Algorithms: Algorithms rely on data structures to operate, so understanding data structures is essential for effective algorithm development.\n",
        "\n"
      ],
      "metadata": {
        "id": "YkqHfDG7F5iy"
      }
    },
    {
      "cell_type": "markdown",
      "source": [
        " 2. Explain the difference between mutable and immutable data types with examplese.\n",
        "\n",
        "     Mutable Data Types\n",
        " Mutable data types allow modification of their content after they are created.\n",
        "\n",
        "Examples in Python:\n",
        "List: You can add, remove, or change elements.\n",
        "\n",
        "Dictionary: You can add or update key-value pairs\n",
        "\n",
        "Immutable data types do not allow modification after they are created. Any change creates a new object.\n",
        "Examples in Python:\n",
        "String: You cannot change a part of the string directly.\n",
        "\n",
        "Tuple: You cannot add, remove, or change elements.\n",
        "\n",
        "Integers and Floats: These are immutable; operations create new objects.\n"
      ],
      "metadata": {
        "id": "EzGx9-3yP3Vk"
      }
    },
    {
      "cell_type": "markdown",
      "source": [
        "3. What are the main differences between lists and tuples in Python?\n",
        "\n",
        "Lists and tuples are both sequence data types in Python that can store collections of items, but they have significant differences. The primary distinction is that lists are mutable, meaning their elements can be modified, added, or removed after the list is created. In contrast, tuples are immutable, so their elements cannot be changed once defined. This immutability makes tuples faster and more memory-efficient than lists, especially when dealing with a large amount of data. Lists are created using square brackets [], while tuples use parentheses (). Because of their mutability, lists are more suitable for operations where frequent modifications are required, such as appending or updating values. On the other hand, tuples are often used when the data should remain constant throughout the program, such as fixed coordinates or configuration settings. Additionally, since tuples are immutable, they can be used as keys in dictionaries, whereas lists cannot."
      ],
      "metadata": {
        "id": "0NrTpt2KRD40"
      }
    },
    {
      "cell_type": "markdown",
      "source": [
        "4. Describe how dictionaries store data?\n",
        "\n",
        "Dictionaries in Python store data as key-value pairs. Each key in a dictionary acts as a unique identifier for its associated value, enabling efficient data retrieval. The structure is often referred to as a hash table or hash map because it uses a hashing mechanism for quick access.\n",
        "\n",
        "How It Works\n",
        "\n",
        "Hashing Keys:\n",
        "\n",
        "When a key-value pair is added to a dictionary, the key is passed through a hash function. This function converts the key into a fixed-size integer (called a hash).\n",
        "The hash value determines the location (or \"bucket\") in memory where the key-value pair will be stored.\n",
        "\n",
        "Storing Values:\n",
        "\n",
        "The key and its corresponding value are stored together at the calculated location in memory.\n",
        "If multiple keys produce the same hash value (a situation called a collision), Python uses a technique like chaining or open addressing to resolve the conflict and store the data properly.\n",
        "\n",
        "Retrieving Values:\n",
        "\n",
        "When you query the dictionary with a key, the key is hashed again, and the hash value is used to locate the corresponding bucket quickly.\n",
        "The value is then retrieved from the bucket."
      ],
      "metadata": {
        "id": "GbLsb5mCRtgF"
      }
    },
    {
      "cell_type": "markdown",
      "source": [
        "5.Why might you use a set instead of a list in Python?\n",
        "\n",
        "You might choose a set over a list in Python when you need to store a collection of unique items and perform operations such as membership testing, union, intersection, or difference efficiently. Here are key reasons to use a set instead of a list:\n",
        "\n",
        "1. Uniqueness of Elements\n",
        "Sets automatically eliminate duplicate values.\n",
        "If you have a collection of items and want to ensure all elements are distinct, a set is ideal.\n",
        "\n",
        "2. Faster Membership Testing\n",
        "Sets offer average O(1) time complexity for membership checks, compared to O(n) for lists.\n",
        "Use sets when frequent lookups (e.g., checking if an element exists) are needed.\n",
        "\n",
        "3. Efficient Mathematical Operations\n",
        "Sets are designed for operations like union, intersection, difference, and symmetric difference.\n",
        "These operations are more concise and faster with sets than with lists.\n",
        "\n",
        "4. Unordered Nature\n",
        "If you don't need to maintain the order of elements, sets are suitable.\n",
        "Lists preserve order, but sets do not guarantee any specific order.\n",
        "5. Memory Efficiency\n",
        "Sets can sometimes use less memory than lists for large collections of unique items due to their internal storage mechanism.\n"
      ],
      "metadata": {
        "id": "JI6oaWT1SQYy"
      }
    },
    {
      "cell_type": "markdown",
      "source": [
        "6.What is a string in Python, and how is it different from a list?\n",
        "\n",
        "A string in Python is a sequence of characters, used to represent text. It is one of the most common data types in Python and is enclosed in either single quotes (') or double quotes (\"). Strings are immutable, meaning their content cannot be modified after they are created.\n",
        "\n",
        "Key Characteristics of Strings:\n",
        "Immutable: Once a string is created, its characters cannot be changed, added, or removed.\n",
        "\n",
        "Ordered: Strings maintain the order of characters, so each character has a specific position (index) that can be accessed.\n",
        "\n",
        "Indexing and Slicing: You can access individual characters or substrings using indexing (string[index]) or slicing (string[start:end]).\n",
        "\n",
        "Concatenation: Strings can be combined using the + operator.\n",
        "\n",
        "Difference Between a String and a List\n",
        "1. Data Type:\n",
        "A string is a sequence of characters (text).\n",
        "A list is a collection of elements that can be of any data type (e.g., integers, strings, or even other lists).\n",
        "2. Mutability:\n",
        "String: Immutable. Once created, you cannot modify its contents (e.g., change a single character).\n",
        "\n",
        "\n",
        "3. Homogeneity:\n",
        "String: A string can only contain characters.\n",
        "List: A list can contain elements of different data types, including strings, integers, floats, etc.\n",
        "\n",
        "4. Use Cases:\n",
        "String: Used to represent text and work with characters or substrings.\n",
        "List: Used to store collections of items, which can be of various data types and may require frequent modification.\n",
        "\n",
        "5. Operations:\n",
        "String: You can perform string-specific operations like concatenation, searching, and formatting.\n",
        "List: You can perform operations like appending, removing, and sorting elements."
      ],
      "metadata": {
        "id": "AouNt3CDS7G2"
      }
    },
    {
      "cell_type": "markdown",
      "source": [
        "7. How do tuples ensure data integrity in Python?\n",
        "\n",
        "Tuples ensure data integrity in Python by being immutable. This prevents any accidental modifications to the data they store, which is crucial in situations where you need the data to remain constant. They are ideal for situations that require consistent, unchangeable values, such as fixed configurations, coordinates, or as dictionary keys."
      ],
      "metadata": {
        "id": "QS3ZNjwGTqUB"
      }
    },
    {
      "cell_type": "markdown",
      "source": [
        "8.What is a hash table, and how does it relate to dictionaries in Python?\n",
        "\n",
        "A hash table is a data structure that stores key-value pairs by using a hash function to compute an index for each key, which determines where its associated value is stored. Python dictionaries are implemented using hash tables, which allows them to provide fast access to values based on their keys. The key advantage of hash tables (and Python dictionaries) is their ability to perform efficient insertions, lookups, and deletions in constant time on average.\n",
        "\n",
        "Hash Tables and Python Dictionaries:\n",
        "\n",
        "In Python, dictionaries are implemented using hash tables. This means that Python dictionaries use a hash function to efficiently store and retrieve key-value pairs.\n",
        "\n",
        "Key-Value Pairs: In a Python dictionary, each key is hashed to determine its index, and the value associated with that key is stored at the corresponding position.\n",
        "\n",
        "\n",
        "In the dictionary above, the string \"name\" and \"age\" are the keys, and their corresponding values are \"Alice\" and 25, respectively.\n",
        "\n",
        "Hashing Keys:\n",
        "\n",
        "When you access a dictionary using a key, Python applies the hash function to the key to quickly locate the associated value.\n",
        "\n",
        "Handling Collisions in Dictionaries: Python’s dictionary implementation uses open addressing (specifically probing) to resolve hash collisions.\n",
        "\n",
        "Efficiency of Python Dictionaries:\n",
        "\n",
        "Because dictionaries are backed by hash tables, they offer constant-time complexity for lookups, insertions, and deletions on average (O(1)). However, this can degrade to O(n) if there are many hash collisions."
      ],
      "metadata": {
        "id": "UpKC3vPIT80J"
      }
    },
    {
      "cell_type": "markdown",
      "source": [
        " 9.Can lists contain different data types in Python?\n",
        "\n",
        " Yes, lists in Python can contain elements of different data types. This flexibility is one of the key features of Python lists, allowing you to mix and match various types of data, such as integers, strings, floats, boolean values, other lists, dictionaries, and even custom objects within a single list."
      ],
      "metadata": {
        "id": "1xVLCzoTUdtZ"
      }
    },
    {
      "cell_type": "markdown",
      "source": [
        "10. Explain why strings are immutable in Python?\n",
        "\n",
        "1 Performance Efficiency\n",
        "Memory Optimization: Since strings are immutable, Python can optimize memory usage by reusing string objects rather than creating new ones each time a modification is made. When a string is modified, Python creates a new string object rather than altering the original, thus preserving memory.\n",
        "\n",
        "2. Security and Safety\n",
        "Unintended Modification Prevention: Immutability ensures that once a string is created, its value cannot be accidentally or maliciously changed, which makes string data more secure. This is important for data integrity in applications like encryption keys, URLs, and configuration values.\n",
        "\n",
        "\n",
        "3. Consistency and Hashing\n",
        "Hashable: Strings need to be hashable so that they can be used as keys in dictionaries or elements in sets. For an object to be hashable, its value must remain constant throughout its lifetime. Since strings are immutable, their hash value remains unchanged, making them reliable as dictionary keys.\n",
        "\n",
        "4. Optimization of String Operations\n",
        "Concatenation and Slicing: Since strings are immutable, Python can optimize operations like concatenation and slicing. Each time a new string is created, Python can allocate memory efficiently, reducing the overhead associated with memory management.\n",
        "5. Historical Reasons\n",
        "Inherit from C: Python's string implementation follows the principles of C, where string literals are immutable for efficiency and consistency. Since Python strings are based on this principle, immutability has become a foundational feature.\n"
      ],
      "metadata": {
        "id": "qnlkCssQUyPk"
      }
    },
    {
      "cell_type": "markdown",
      "source": [
        "11. What advantages do dictionaries offer over lists for certain tasks?\n",
        "\n",
        "1. Fast Lookups and Access\n",
        "Constant-time Access (O(1)): Dictionaries allow for constant-time complexity (O(1)) for lookups, insertions, and deletions on average, thanks to the hashing mechanism used to store key-value pairs. In contrast, lists have to search through each element sequentially, which can take linear time (O(n)) in the worst case.\n",
        "\n",
        "\n",
        "2. Unique Key-Value Pairing\n",
        "Key-Value Mapping: In a dictionary, each element consists of a unique key associated with a value. This makes dictionaries ideal for scenarios where you need to map one piece of data to another (e.g., student IDs to names or countries to their capitals).\n",
        "\n",
        "3. Handling Uniqueness of Data\n",
        "Preventing Duplicate Keys: Dictionaries inherently ensure that each key is unique. If you try to insert a duplicate key, the value for that key is simply updated, which prevents unintentional duplication of keys.\n",
        "\n",
        "4. More Flexible Data Types\n",
        "Keys Can Be Complex: While lists are indexed by integers, dictionaries allow you to use almost any immutable data type (e.g., strings, tuples) as keys. This provides flexibility for tasks like storing complex data structures as keys or organizing data in more meaningful ways.\n",
        "\n",
        "5. Better Data Organization\n",
        "Structured Data: Dictionaries allow you to organize data in a key-value format, making it more readable and structured compared to lists, which only store a sequence of values without any inherent labeling.\n",
        "\n",
        "6. Efficient Updates and Deletions\n",
        "Efficient Updates and Deletions by Key: Since dictionary keys are unique, updating or deleting data based on keys is more efficient. In lists, you would typically need to search through the elements to find the one you want to update or remove.\n",
        "\n",
        "7. Set Operations and Advanced Features\n",
        "Set Operations (Union, Intersection, etc.): Python dictionaries support efficient set-like operations when combined with their keys or values, making it easier to perform operations like finding intersections or differences between datasets.\n",
        "\n",
        "8. Nested Data Structures\n",
        "Support for Complex Nested Data: Dictionaries can easily store and access nested data structures (e.g., lists or other dictionaries as values). This is useful for representing more complex relationships, such as hierarchical data or configurations."
      ],
      "metadata": {
        "id": "QGUWDV6AVYyX"
      }
    },
    {
      "cell_type": "markdown",
      "source": [
        "12. Describe a scenario where using a tuple would be preferable over a list?\n",
        "\n",
        "In scenarios where the data is fixed and should not be changed, such as representing geographic coordinates or storing configuration settings, a tuple is preferable over a list. Tuples provide immutability, data integrity, and performance benefits that ensure the data remains consistent and secure throughout the program's execution."
      ],
      "metadata": {
        "id": "fxg0PoYAWKL2"
      }
    },
    {
      "cell_type": "markdown",
      "source": [
        "13.  How do sets handle duplicate values in Python?\n",
        "\n",
        "In Python, sets are collections that automatically handle duplicate values by removing them. A set is an unordered collection of unique elements, meaning that it does not allow duplicate values. If you try to add a duplicate value to a set, Python will simply ignore it.\n",
        "\n",
        "How Sets Handle Duplicates:\n",
        "Unique Elements: When you add an element to a set, Python checks if the element already exists. If the element is already present in the set, it is not added again.\n",
        "\n",
        "\n",
        "Automatic Deduplication: If you create a set from a list (or any other iterable) that contains duplicate values, Python will automatically eliminate the duplicates and store only unique elements in the set.\n",
        "\n",
        "\n",
        "Efficient Membership Checking: Because sets are implemented using hash tables, membership checking (e.g., x in my_set) is highly efficient, typically taking constant time (O(1)). This makes sets particularly useful when you need to ensure uniqueness or check if an element already exists in a collection.\n"
      ],
      "metadata": {
        "id": "UTaCvzfKWb-6"
      }
    },
    {
      "cell_type": "markdown",
      "source": [
        "14.  How does the “in” keyword work differently for lists and dictionaries?\n",
        "\n",
        "The \"in\" keyword works differently for lists and dictionaries in Python due to the way they store data:\n",
        "\n",
        "For Lists: The \"in\" keyword checks for the existence of a value in the list. It performs a sequential search, meaning it checks each element of the list until it finds a match. The operation has a time complexity of O(n), where n is the length of the list.\n",
        "\n",
        "\n",
        "For Dictionaries: The \"in\" keyword checks for the existence of a key in the dictionary, not the value. It performs this check efficiently using the hash of the key, which results in constant-time complexity O(1) for membership testing."
      ],
      "metadata": {
        "id": "Hz268YorWtCW"
      }
    },
    {
      "cell_type": "markdown",
      "source": [
        "15. Can you modify the elements of a tuple? Explain why or why not?\n",
        "\n",
        "No, you cannot modify the elements of a tuple in Python. This is because tuples are immutable data structures, meaning that once a tuple is created, its contents cannot be changed.\n",
        "\n",
        "Why Tuples Are Immutable:\n",
        "Fixed Size: When a tuple is created, the number of elements in it is fixed and cannot be altered. This immutability ensures that the tuple's data remains consistent throughout the program.\n",
        "\n",
        "Performance Optimization: Immutability allows Python to optimize memory usage and improve performance. Since the contents of a tuple cannot be changed, Python can safely store and reuse tuple objects without needing to track changes.\n",
        "\n",
        "Data Integrity: The immutability of tuples ensures data integrity. This means that once you assign a tuple to a variable, you can be confident that the data will not be inadvertently modified later in the program, which can be important in many situations like storing fixed configuration values, geographic coordinates, or constant data."
      ],
      "metadata": {
        "id": "cyODMN4HXbep"
      }
    },
    {
      "cell_type": "markdown",
      "source": [
        "16. What is a nested dictionary, and give an example of its use case?\n",
        "\n",
        "A nested dictionary in Python is a dictionary where the values associated with some keys are themselves dictionaries. This allows you to represent more complex, hierarchical data structures where each key can map to another dictionary (or another collection), making it suitable for storing multi-level or grouped data.\n",
        "\n",
        "Use Case Example: Representing Student Information\n",
        "Let's consider an example where we have a group of students, and we want to store their personal details and grades. A nested dictionary can be used to represent each student's information, where the outer dictionary contains student names as keys, and the inner dictionary contains the details (e.g., age, grades) for each student.\n",
        "\n",
        "Example:\n",
        "\n",
        "students = {\n",
        "    \"Alice\": {\"age\": 20, \"subjects\": {\"Math\": 90, \"Science\": 85}},\n",
        "    \"Bob\": {\"age\": 22, \"subjects\": {\"Math\": 80, \"History\": 88}},\n",
        "    \"Charlie\": {\"age\": 21, \"subjects\": {\"English\": 92, \"Art\": 89}},\n",
        "}\n",
        "\n",
        "# Accessing information for a specific student\n",
        "print(students[\"Alice\"][\"age\"])  # Output: 20\n",
        "print(students[\"Bob\"][\"subjects\"][\"Math\"])  # Output: 80\n",
        "Explanation:\n",
        "The outer dictionary (students) has keys representing student names (e.g., \"Alice\", \"Bob\", \"Charlie\").\n",
        "The value for each key is another dictionary that contains the student's age and subjects.\n",
        "The \"subjects\" key itself maps to another dictionary, which stores subject names as keys and grades as values."
      ],
      "metadata": {
        "id": "I5DI-HdNXp37"
      }
    },
    {
      "cell_type": "markdown",
      "source": [
        "17.  Describe the time complexity of accessing elements in a dictionary.\n",
        "\n",
        "In Python, dictionaries are implemented using hash tables, which allows for efficient access to elements. The time complexity of accessing elements in a dictionary depends on the operation being performed, but in general, accessing elements by key is highly efficient.\n",
        "\n",
        "Time Complexity of Accessing Elements:\n",
        "Average Case: The time complexity for accessing an element in a dictionary using its key is O(1) (constant time). This is because dictionaries use hashing to map keys to values. When you access a key, the hash value is computed, and the corresponding value is retrieved directly without needing to search through the dictionary.\n",
        "\n",
        "\n",
        "\n",
        "Worst Case: In the rare case of hash collisions (when multiple keys hash to the same value), the dictionary might need to perform additional work to resolve the collision. In this situation, the time complexity can degrade to O(n), where n is the number of keys in the dictionary. However, Python's hash table implementation minimizes such collisions, so this worst-case scenario is very unlikely in practice.\n",
        "\n"
      ],
      "metadata": {
        "id": "EU0g7-DZYBFR"
      }
    },
    {
      "cell_type": "markdown",
      "source": [
        "18. In what situations are lists preferred over dictionaries?\n",
        "\n",
        "Lists are preferred over dictionaries in the following situations:\n",
        "\n",
        "Ordered Collection: When the order of elements matters, and you need to maintain a sequence (e.g., for iteration in the order items were added). Lists preserve the order of elements, while dictionaries (prior to Python 3.7) do not.\n",
        "\n",
        "Index-based Access: When you need to access elements using numeric indices rather than keys. Lists are ideal when the position of an element is important, and you will access them sequentially or by index.\n",
        "\n",
        "Homogeneous Data: When the collection contains elements of the same type or similar data, and you don’t need to associate values with unique keys. Lists work well for ordered data, like a collection of numbers, strings, or other objects.\n",
        "\n",
        "Efficient Appending/Removing Elements: When you need to frequently add or remove elements at the end of the collection, lists are more efficient. Operations like append(), pop(), and slicing are optimized for this type of usage.\n",
        "\n",
        "Simple Data Representation: When you just need a simple collection of data without requiring key-value mapping, lists are more straightforward and easier to use."
      ],
      "metadata": {
        "id": "xCekWn7SYZg9"
      }
    },
    {
      "cell_type": "markdown",
      "source": [
        "19. Why are dictionaries considered unordered, and how does that affect data retrieval?\n",
        "\n",
        "Dictionaries in Python were considered unordered until Python 3.7, where they started maintaining the insertion order of elements.\n",
        "\n",
        "Reasons for Dictionaries Being Considered Unordered:\n",
        "Hashing Mechanism: Dictionaries use a hash table to store keys, which involves computing a hash value for each key and using this hash value to determine where the corresponding value is stored in memory.\n",
        "\n",
        "Lack of Sorting: Unlike lists, which maintain the order of elements based on their indices, dictionaries do not inherently maintain any sort of order among the keys. Before Python 3.7, dictionaries were explicitly unordered, meaning that the order of key-value pairs could not be relied upon.\n",
        "\n",
        "Insertion Order (Python 3.7+): From Python 3.7 onward, while dictionaries maintain insertion order (the order in which items are added), this is an implementation detail and not a guaranteed feature in earlier versions. The primary feature of dictionaries remains their efficient key-based access rather than any inherent ordering of keys."
      ],
      "metadata": {
        "id": "w_i51gjiYvnJ"
      }
    },
    {
      "cell_type": "markdown",
      "source": [
        "20. Explain the difference between a list and a dictionary in terms of data retrieval.\n",
        "\n",
        "Access Method:\n",
        "\n",
        "List: Elements are accessed by index (position in the list).\n",
        "Dictionary: Elements are accessed by key (unique identifier for each value).\n",
        "Data Organization:\n",
        "\n",
        "List: Data is stored in a sequential order with a fixed index for each element.\n",
        "Dictionary: Data is stored as key-value pairs, and the order of the keys is typically not important (unless you are using Python 3.7+ where insertion order is preserved).\n",
        "\n",
        "Use Cases:\n",
        "List: Best for ordered collections where the position of elements is significant, and you need to access them by their index.\n",
        "Dictionary: Best for unstructured collections where each element is associated with a unique key, and you need to quickly look up values based on these keys."
      ],
      "metadata": {
        "id": "1DnXwRSiZAbR"
      }
    },
    {
      "cell_type": "code",
      "source": [
        "#Write a code to create a string with your name and print it.\n",
        "x = \"Lokesh Mishra\"\n",
        "print(x)\n",
        "type(x)"
      ],
      "metadata": {
        "colab": {
          "base_uri": "https://localhost:8080/"
        },
        "id": "E9EGEjA4aGNn",
        "outputId": "d25f8b3f-0742-42ef-d156-998b4f581a5d"
      },
      "execution_count": 1,
      "outputs": [
        {
          "output_type": "stream",
          "name": "stdout",
          "text": [
            "Lokesh Mishra\n"
          ]
        },
        {
          "output_type": "execute_result",
          "data": {
            "text/plain": [
              "str"
            ]
          },
          "metadata": {},
          "execution_count": 1
        }
      ]
    },
    {
      "cell_type": "code",
      "source": [
        "#Write a code to find the length of the string \"Hello World\"\n",
        "x = \"hello world\"\n",
        "len(x)"
      ],
      "metadata": {
        "colab": {
          "base_uri": "https://localhost:8080/"
        },
        "id": "hdt-SGo1aM7w",
        "outputId": "475d14dc-7443-469f-ba73-5c3a05ad2bae"
      },
      "execution_count": 2,
      "outputs": [
        {
          "output_type": "execute_result",
          "data": {
            "text/plain": [
              "11"
            ]
          },
          "metadata": {},
          "execution_count": 2
        }
      ]
    },
    {
      "cell_type": "code",
      "source": [
        "#Write a code to slice the first 3 characters from the string \"Python Programming\"\n",
        "x = \"python programming\"\n",
        "x[0:3]"
      ],
      "metadata": {
        "colab": {
          "base_uri": "https://localhost:8080/",
          "height": 35
        },
        "id": "Xzl0MMzWaQbt",
        "outputId": "8d9f0c8e-50ea-45cf-888c-e5e0cbcc1041"
      },
      "execution_count": 3,
      "outputs": [
        {
          "output_type": "execute_result",
          "data": {
            "text/plain": [
              "'pyt'"
            ],
            "application/vnd.google.colaboratory.intrinsic+json": {
              "type": "string"
            }
          },
          "metadata": {},
          "execution_count": 3
        }
      ]
    },
    {
      "cell_type": "code",
      "source": [
        "#Write a code to convert the string \"hello\" to uppercase\n",
        "x = \"hello\"\n",
        "x.upper()"
      ],
      "metadata": {
        "colab": {
          "base_uri": "https://localhost:8080/",
          "height": 35
        },
        "id": "dE2BU3NGaqVh",
        "outputId": "45f4f4c1-0a07-4119-a87b-be3773c31b2a"
      },
      "execution_count": 4,
      "outputs": [
        {
          "output_type": "execute_result",
          "data": {
            "text/plain": [
              "'HELLO'"
            ],
            "application/vnd.google.colaboratory.intrinsic+json": {
              "type": "string"
            }
          },
          "metadata": {},
          "execution_count": 4
        }
      ]
    },
    {
      "cell_type": "code",
      "source": [
        "#Write a code to replace the word \"apple\" with \"orange\" in the string \"I like apple\"\n",
        "x = \"i like apple\"\n",
        "x.replace(\"apple\",\"orange\")"
      ],
      "metadata": {
        "colab": {
          "base_uri": "https://localhost:8080/",
          "height": 35
        },
        "id": "Qpp3dkjaauZX",
        "outputId": "c34f40b2-ca22-4e74-f6b4-a9d20ea942e9"
      },
      "execution_count": 5,
      "outputs": [
        {
          "output_type": "execute_result",
          "data": {
            "text/plain": [
              "'i like orange'"
            ],
            "application/vnd.google.colaboratory.intrinsic+json": {
              "type": "string"
            }
          },
          "metadata": {},
          "execution_count": 5
        }
      ]
    },
    {
      "cell_type": "code",
      "source": [
        "#Write a code to create a list with numbers 1 to 5 and print it\n",
        "x = [1,2,3,4,5]\n",
        "print(x)\n",
        "type(x)"
      ],
      "metadata": {
        "colab": {
          "base_uri": "https://localhost:8080/"
        },
        "id": "vPiEXtlmbFuR",
        "outputId": "f6ab7527-4301-43b4-9470-e1bee313ef02"
      },
      "execution_count": 6,
      "outputs": [
        {
          "output_type": "stream",
          "name": "stdout",
          "text": [
            "[1, 2, 3, 4, 5]\n"
          ]
        },
        {
          "output_type": "execute_result",
          "data": {
            "text/plain": [
              "list"
            ]
          },
          "metadata": {},
          "execution_count": 6
        }
      ]
    },
    {
      "cell_type": "code",
      "source": [
        "#Write a code to append the number 10 to the list [1, 2, 3, 4]\n",
        "x.append(10)"
      ],
      "metadata": {
        "id": "f0ySMZeqbKLf"
      },
      "execution_count": 7,
      "outputs": []
    },
    {
      "cell_type": "code",
      "source": [
        "print(x)"
      ],
      "metadata": {
        "colab": {
          "base_uri": "https://localhost:8080/"
        },
        "id": "YgyeZ414bQQN",
        "outputId": "0fd6f7a1-eb7d-4dc9-e93b-3be9802ba2a0"
      },
      "execution_count": 8,
      "outputs": [
        {
          "output_type": "stream",
          "name": "stdout",
          "text": [
            "[1, 2, 3, 4, 5, 10]\n"
          ]
        }
      ]
    },
    {
      "cell_type": "code",
      "source": [
        "#Write a code to remove the number 3 from the list [1, 2, 3, 4, 5]\n",
        "x = [1, 2, 3, 4, 5]\n",
        "x.remove(3)\n",
        "print(x)"
      ],
      "metadata": {
        "colab": {
          "base_uri": "https://localhost:8080/"
        },
        "id": "wYqnJNanbWxz",
        "outputId": "2d6b9486-23e6-4299-97a2-dfe60025ec36"
      },
      "execution_count": 9,
      "outputs": [
        {
          "output_type": "stream",
          "name": "stdout",
          "text": [
            "[1, 2, 4, 5]\n"
          ]
        }
      ]
    },
    {
      "cell_type": "code",
      "source": [
        "#Write a code to access the second element in the list ['a', 'b', 'c', 'd']\n",
        "y = ['a', 'b', 'c', 'd']\n",
        "y[1]"
      ],
      "metadata": {
        "colab": {
          "base_uri": "https://localhost:8080/",
          "height": 35
        },
        "id": "lR6jJ9yObaDa",
        "outputId": "baee8811-a5ae-419c-d432-e30dd0f1d193"
      },
      "execution_count": 10,
      "outputs": [
        {
          "output_type": "execute_result",
          "data": {
            "text/plain": [
              "'b'"
            ],
            "application/vnd.google.colaboratory.intrinsic+json": {
              "type": "string"
            }
          },
          "metadata": {},
          "execution_count": 10
        }
      ]
    },
    {
      "cell_type": "code",
      "source": [
        "#Write a code to reverse the list [10, 20, 30, 40, 50]\n",
        "x = [10, 20, 30, 40, 50]\n",
        "x.reverse()\n",
        "print(x)"
      ],
      "metadata": {
        "colab": {
          "base_uri": "https://localhost:8080/"
        },
        "id": "y5KLIAPabeTV",
        "outputId": "3746e7d5-8b70-49cb-8ea8-50c6e35ce857"
      },
      "execution_count": 11,
      "outputs": [
        {
          "output_type": "stream",
          "name": "stdout",
          "text": [
            "[50, 40, 30, 20, 10]\n"
          ]
        }
      ]
    },
    {
      "cell_type": "code",
      "source": [
        " #Write a code to create a tuple with the elements 10, 20, 30 and print it.\n",
        "x = (10,20,30)\n",
        "print(x)\n",
        "type(x)"
      ],
      "metadata": {
        "colab": {
          "base_uri": "https://localhost:8080/"
        },
        "id": "PMIE2ww5bob6",
        "outputId": "ac436012-2d01-4649-efcd-86347c86f664"
      },
      "execution_count": 12,
      "outputs": [
        {
          "output_type": "stream",
          "name": "stdout",
          "text": [
            "(10, 20, 30)\n"
          ]
        },
        {
          "output_type": "execute_result",
          "data": {
            "text/plain": [
              "tuple"
            ]
          },
          "metadata": {},
          "execution_count": 12
        }
      ]
    },
    {
      "cell_type": "code",
      "source": [
        "# Write a code to access the first element of the tuple ('apple', 'banana', 'cherry').\n",
        "x = (\"apple\", \"banana\", \"cherry\" )\n",
        "x[0]"
      ],
      "metadata": {
        "colab": {
          "base_uri": "https://localhost:8080/",
          "height": 35
        },
        "id": "I44On19Ubr8f",
        "outputId": "f1c15d38-a3d9-4528-fac0-601386be2258"
      },
      "execution_count": 13,
      "outputs": [
        {
          "output_type": "execute_result",
          "data": {
            "text/plain": [
              "'apple'"
            ],
            "application/vnd.google.colaboratory.intrinsic+json": {
              "type": "string"
            }
          },
          "metadata": {},
          "execution_count": 13
        }
      ]
    },
    {
      "cell_type": "code",
      "source": [
        "#Write a code to count how many times the number 2 appears in the tuple (1, 2, 3, 2, 4, 2).\n",
        "x = (1, 2, 3, 2, 4, 2)\n",
        "x.count(2)"
      ],
      "metadata": {
        "colab": {
          "base_uri": "https://localhost:8080/"
        },
        "id": "kAuB6sYVbxOQ",
        "outputId": "25abeedc-aaaa-4947-cf72-df5aa0bc7fbe"
      },
      "execution_count": 14,
      "outputs": [
        {
          "output_type": "execute_result",
          "data": {
            "text/plain": [
              "3"
            ]
          },
          "metadata": {},
          "execution_count": 14
        }
      ]
    },
    {
      "cell_type": "code",
      "source": [
        "#Write a code to find the index of the element \"cat\" in the tuple ('dog', 'cat', 'rabbit').\n",
        "x = (\"dog\",\"cat\",\"rabbit\")\n",
        "x.index(\"cat\")"
      ],
      "metadata": {
        "colab": {
          "base_uri": "https://localhost:8080/"
        },
        "id": "ZjN86REub0kX",
        "outputId": "26736a5c-d817-4f07-a88c-54fddabc48e6"
      },
      "execution_count": 15,
      "outputs": [
        {
          "output_type": "execute_result",
          "data": {
            "text/plain": [
              "1"
            ]
          },
          "metadata": {},
          "execution_count": 15
        }
      ]
    },
    {
      "cell_type": "code",
      "source": [
        "#Write a code to check if the element \"banana\" is in the tuple ('apple', 'orange', 'banana').\n",
        "x = (\"apple\", \"orange\", \"banana\")\n",
        "if 'banana' in x:\n",
        "    print(\"Yes, 'banana' is in the tuple.\")\n",
        "else:\n",
        "    print(\"No, 'banana' is not in the tuple.\")"
      ],
      "metadata": {
        "colab": {
          "base_uri": "https://localhost:8080/"
        },
        "id": "QKBJOruab4XO",
        "outputId": "f699aaa7-9c84-4a6b-f921-77f66b15430e"
      },
      "execution_count": 16,
      "outputs": [
        {
          "output_type": "stream",
          "name": "stdout",
          "text": [
            "Yes, 'banana' is in the tuple.\n"
          ]
        }
      ]
    },
    {
      "cell_type": "code",
      "source": [
        "#Write a code to create a set with the elements 1, 2, 3, 4, 5 and print it.\n",
        "x = {1, 2, 3, 4, 5}\n",
        "print(x)\n",
        "type(x)"
      ],
      "metadata": {
        "colab": {
          "base_uri": "https://localhost:8080/"
        },
        "id": "_Fcd2GYib_b2",
        "outputId": "2d39f44f-ef4e-41f9-a3ac-44b5c79606c2"
      },
      "execution_count": 17,
      "outputs": [
        {
          "output_type": "stream",
          "name": "stdout",
          "text": [
            "{1, 2, 3, 4, 5}\n"
          ]
        },
        {
          "output_type": "execute_result",
          "data": {
            "text/plain": [
              "set"
            ]
          },
          "metadata": {},
          "execution_count": 17
        }
      ]
    },
    {
      "cell_type": "code",
      "source": [
        "#Write a code to add the element 6 to the set {1, 2, 3, 4}\n",
        "x.add(6)"
      ],
      "metadata": {
        "id": "tpWgehEpcCYl"
      },
      "execution_count": 18,
      "outputs": []
    },
    {
      "cell_type": "code",
      "source": [
        "print(x)"
      ],
      "metadata": {
        "colab": {
          "base_uri": "https://localhost:8080/"
        },
        "id": "W8bQaffjcE-m",
        "outputId": "2e2af3f6-cdd9-48b8-d77f-8b6b81cf6658"
      },
      "execution_count": 19,
      "outputs": [
        {
          "output_type": "stream",
          "name": "stdout",
          "text": [
            "{1, 2, 3, 4, 5, 6}\n"
          ]
        }
      ]
    },
    {
      "cell_type": "code",
      "source": [
        "#Write a code to create a tuple with the elements 10, 20, 30 and print it\n",
        "x = [10, 20, 30]\n",
        "print(x)"
      ],
      "metadata": {
        "colab": {
          "base_uri": "https://localhost:8080/"
        },
        "id": "q7dv4fcccMqC",
        "outputId": "e01ead11-a720-42a7-b7c1-e9e1ee9fdd3b"
      },
      "execution_count": 20,
      "outputs": [
        {
          "output_type": "stream",
          "name": "stdout",
          "text": [
            "[10, 20, 30]\n"
          ]
        }
      ]
    },
    {
      "cell_type": "code",
      "source": [
        "#Write a code to access the first element of the tuple ('apple', 'banana', 'cherry').\n",
        "x = (\"apple\", \"banana\", \"cherry\")\n",
        "x[0]"
      ],
      "metadata": {
        "colab": {
          "base_uri": "https://localhost:8080/",
          "height": 35
        },
        "id": "owZEjNSCcQt8",
        "outputId": "1b170d5f-4520-428b-c69c-be5dfa56dd25"
      },
      "execution_count": 21,
      "outputs": [
        {
          "output_type": "execute_result",
          "data": {
            "text/plain": [
              "'apple'"
            ],
            "application/vnd.google.colaboratory.intrinsic+json": {
              "type": "string"
            }
          },
          "metadata": {},
          "execution_count": 21
        }
      ]
    },
    {
      "cell_type": "code",
      "source": [
        "#Write a code to count how many times the number 2 appears in the tuple (1, 2, 3, 2, 4, 2).\n",
        "x = (1, 2, 3, 2, 4, 2)\n",
        "x.count(2)"
      ],
      "metadata": {
        "colab": {
          "base_uri": "https://localhost:8080/"
        },
        "id": "jhBMarOfcTjv",
        "outputId": "110b7b42-4762-4c21-8541-a3a73aea667f"
      },
      "execution_count": 22,
      "outputs": [
        {
          "output_type": "execute_result",
          "data": {
            "text/plain": [
              "3"
            ]
          },
          "metadata": {},
          "execution_count": 22
        }
      ]
    },
    {
      "cell_type": "code",
      "source": [
        "#Write a code to find the index of the element \"cat\" in the tuple ('dog', 'cat', 'rabbit').\n",
        "x = (\"dog\", \"cat\", \"rabbit\")\n",
        "x.index(\"cat\")"
      ],
      "metadata": {
        "colab": {
          "base_uri": "https://localhost:8080/"
        },
        "id": "EPe5LcOGcW9x",
        "outputId": "fac6c1c5-e7d8-4568-c23b-935887f1e091"
      },
      "execution_count": 23,
      "outputs": [
        {
          "output_type": "execute_result",
          "data": {
            "text/plain": [
              "1"
            ]
          },
          "metadata": {},
          "execution_count": 23
        }
      ]
    },
    {
      "cell_type": "code",
      "source": [
        "#Write a code to check if the element \"banana\" is in the tuple ('apple', 'orange', 'banana').\n",
        "x = (\"apple\", \"orange\", \"banana\")\n",
        "if \"banana\" in x:\n",
        "  print(\"yes, banana is in the tuple\")\n",
        "else:\n",
        "  print(\"banana, is not in tupple\")"
      ],
      "metadata": {
        "colab": {
          "base_uri": "https://localhost:8080/"
        },
        "id": "tC_mTz3xcZFe",
        "outputId": "1685aeb7-0a41-4b41-bafa-f7ac01e160c0"
      },
      "execution_count": 24,
      "outputs": [
        {
          "output_type": "stream",
          "name": "stdout",
          "text": [
            "yes, banana is in the tuple\n"
          ]
        }
      ]
    },
    {
      "cell_type": "code",
      "source": [
        "#Write a code to create a set with the elements 1, 2, 3, 4, 5 and print it.\n",
        "x = {1, 2, 3, 4, 5}\n",
        "print(x)"
      ],
      "metadata": {
        "colab": {
          "base_uri": "https://localhost:8080/"
        },
        "id": "d3duFPXjccaD",
        "outputId": "d45f3616-69b9-488a-c3f7-1f2fca3e7568"
      },
      "execution_count": 25,
      "outputs": [
        {
          "output_type": "stream",
          "name": "stdout",
          "text": [
            "{1, 2, 3, 4, 5}\n"
          ]
        }
      ]
    },
    {
      "cell_type": "code",
      "source": [
        "#Write a code to add the element 6 to the set {1, 2, 3, 4}.\n",
        "x.add(6)"
      ],
      "metadata": {
        "id": "RRjVy5aCcftq"
      },
      "execution_count": 26,
      "outputs": []
    },
    {
      "cell_type": "code",
      "source": [
        "print(x)"
      ],
      "metadata": {
        "colab": {
          "base_uri": "https://localhost:8080/"
        },
        "id": "-HEvfj-qcilK",
        "outputId": "6d3f2be6-7c83-44fa-aa29-c05b142311ad"
      },
      "execution_count": 27,
      "outputs": [
        {
          "output_type": "stream",
          "name": "stdout",
          "text": [
            "{1, 2, 3, 4, 5, 6}\n"
          ]
        }
      ]
    },
    {
      "cell_type": "code",
      "source": [],
      "metadata": {
        "id": "QBd-_D5dclfh"
      },
      "execution_count": null,
      "outputs": []
    }
  ]
}