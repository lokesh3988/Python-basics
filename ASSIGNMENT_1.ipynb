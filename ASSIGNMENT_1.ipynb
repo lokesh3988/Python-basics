{
  "nbformat": 4,
  "nbformat_minor": 0,
  "metadata": {
    "colab": {
      "provenance": []
    },
    "kernelspec": {
      "name": "python3",
      "display_name": "Python 3"
    },
    "language_info": {
      "name": "python"
    }
  },
  "cells": [
    {
      "cell_type": "markdown",
      "source": [
        "1. What is Python, and why is it popular?\n",
        "  - Python is a high-level, interpreted programming language known for its simplicity and versatility. It was created by Guido van Rossum and first released in 1991. Python is designed to be easy to read and write, with a clear and readable syntax that emphasizes readability and reduces the cost of program maintenance.\n",
        "2. what is iterpreter in python?\n",
        "  - In Python, an interpreter is a program that reads and executes the code written in the Python programming language.\n",
        "3. What are pre-defined keywords in Python.\n",
        "  - In Python, pre-defined keywords (often referred to simply as keywords) are reserved words that have a special meaning to the Python interpreter.\n",
        "4. Can keywords be used as variable names?\n",
        "  - Keywords cannot be used as identifiers (such as variable names, function names, or class names) because they are part of the syntax and structure of the Python language.\n",
        "5. What is mutability in Python?\n",
        "  - Mutability in Python refers to the ability of an object to be changed after it is created.\n",
        "6. Why are lists mutable, but tuples are immutable?\n",
        "  - The mutability of lists and the immutability of tuples in Python are fundamental design choices that stem from the intended use cases, performance considerations, and the overall philosophy of the language.\n",
        "7. What is the difference between “==” and “is” operators in Python?\n",
        "  - The == operator is used to compare the values of two objects to check if they are equal.The is operator checks whether two variables refer to the same object in memory, i.e., whether they have the same identity.\n",
        "8. What are logical operators in Python?\n",
        " - In Python, logical operators are used to combine conditional statements or Boolean expressions and evaluate whether certain conditions are True or False. These operators return a Boolean value (True or False) based on the logic they perform.\n",
        "9. What is type casting in Python?\n",
        " - Type casting in Python refers to the process of converting one data type into another. Python provides a variety of built-in functions to explicitly cast or convert data types, enabling you to work with different types in a way that suits your needs.\n",
        "10. What is the difference between implicit and explicit type casting?\n",
        "  -  Implicit type casting happens automatically by Python, and the programmer does not need to explicitly perform the conversion.Explicit type casting is when you manually convert one data type to another using built-in Python functions, such as int(), float(), str(), etc. This type of casting occurs when the programmer wants to convert data types intentionally.\n",
        "11. What is the purpose of conditional statements in Python?\n",
        "  - Conditional statements in Python (such as if, elif, and else) allow your program to make decisions based on certain conditions. The primary purpose of these statements is to control the flow of execution in a program based on whether certain conditions evaluate to True or False. This makes it possible to execute specific blocks of code only when certain criteria are met.\n",
        "12. How does the elif statement work?\n",
        "  - The elif (short for else if) statement in Python is used in conditional logic to check multiple conditions. It comes after an if statement and allows you to specify additional conditions to be checked if the original if condition is False. If the condition in the elif block is True, the corresponding block of code will execute, and the rest of the conditions are ignored.\n",
        "13. What is the difference between for and while loops?\n",
        "  - The for loop in Python is typically used when you know how many times you want to iterate over a sequence (like a list, tuple, string, or range).The while loop is used when you want to repeat a block of code as long as a condition is true.\n",
        "14. Describe a scenario where a while loop is more suitable than a for loop?\n",
        "  - A common scenario where a while loop is more suitable than a for loop is when you need to validate user input. In such cases, you don’t know how many attempts the user will need to provide valid input. The loop should continue running until the user provides the correct input or meets a specific condition. This makes a while loop the natural choice, since it allows the loop to keep running based on a condition rather than iterating over a fixed number of times.\n"
      ],
      "metadata": {
        "id": "tfWQIn9M_rTo"
      }
    },
    {
      "cell_type": "code",
      "source": [
        " #Write a Python program to print \"Hello, World!\n",
        " print(\"hello, world!\")"
      ],
      "metadata": {
        "colab": {
          "base_uri": "https://localhost:8080/"
        },
        "id": "1t4wdOBtFVYe",
        "outputId": "5ec2fc6f-f4b0-483f-c6e9-23ecc09b7b8f"
      },
      "execution_count": null,
      "outputs": [
        {
          "output_type": "stream",
          "name": "stdout",
          "text": [
            "hello, world!\n"
          ]
        }
      ]
    },
    {
      "cell_type": "code",
      "source": [
        "#Write a Python program that displays your name and age\n",
        "name = \"lokesh mishra\"\n",
        "age = 21"
      ],
      "metadata": {
        "id": "ZthILqaBFkgT"
      },
      "execution_count": null,
      "outputs": []
    },
    {
      "cell_type": "code",
      "source": [
        "#Write code to print all the pre-defined keywords in Python using the keyword library"
      ],
      "metadata": {
        "id": "mb4C91ULF0We"
      },
      "execution_count": null,
      "outputs": []
    },
    {
      "cell_type": "code",
      "source": [
        "keywords = keyword.kwlist\n"
      ],
      "metadata": {
        "id": "BfMgLd62GB8G"
      },
      "execution_count": null,
      "outputs": []
    },
    {
      "cell_type": "code",
      "source": [
        "print(keywords)"
      ],
      "metadata": {
        "colab": {
          "base_uri": "https://localhost:8080/"
        },
        "id": "FZGY9BymGYit",
        "outputId": "1b4f4b81-8039-410a-f317-a8d3c5950223"
      },
      "execution_count": null,
      "outputs": [
        {
          "output_type": "stream",
          "name": "stdout",
          "text": [
            "['False', 'None', 'True', 'and', 'as', 'assert', 'async', 'await', 'break', 'class', 'continue', 'def', 'del', 'elif', 'else', 'except', 'finally', 'for', 'from', 'global', 'if', 'import', 'in', 'is', 'lambda', 'nonlocal', 'not', 'or', 'pass', 'raise', 'return', 'try', 'while', 'with', 'yield']\n"
          ]
        }
      ]
    },
    {
      "cell_type": "code",
      "source": [
        "#Write a program that checks if a given word is a Python keyword.\n",
        "word = input(\"Enter a word to check if it's a Python keyword: \")\n",
        "\n",
        "# Check if the word is a Python keyword\n",
        "if keyword.iskeyword(word):\n",
        "    print(f\"'{word}' is a Python keyword.\")\n",
        "else:\n",
        "    print(f\"'{word}' is not a Python keyword.\")"
      ],
      "metadata": {
        "colab": {
          "base_uri": "https://localhost:8080/"
        },
        "id": "Q4lJbpvCGdJh",
        "outputId": "89db9aab-9ecb-4834-9b19-9bbcaf527676"
      },
      "execution_count": null,
      "outputs": [
        {
          "output_type": "stream",
          "name": "stdout",
          "text": [
            "Enter a word to check if it's a Python keyword: True\n",
            "'True' is a Python keyword.\n"
          ]
        }
      ]
    },
    {
      "cell_type": "code",
      "source": [
        "#Create a list and tuple in Python, and demonstrate how attempting to change an element works differently\n",
        "#for each.\n",
        "a = [1,2,3,4,5]\n",
        "b = (1,2,3,4,5)"
      ],
      "metadata": {
        "id": "xDpPmyWvHOrF"
      },
      "execution_count": null,
      "outputs": []
    },
    {
      "cell_type": "code",
      "source": [
        "a[3] = 8"
      ],
      "metadata": {
        "id": "2C9wMgMbH533"
      },
      "execution_count": null,
      "outputs": []
    },
    {
      "cell_type": "code",
      "source": [
        "print(a)"
      ],
      "metadata": {
        "colab": {
          "base_uri": "https://localhost:8080/"
        },
        "id": "YsrAeiLrIIOW",
        "outputId": "9d340bfe-a8ec-429e-8a78-e0a96e7d15b8"
      },
      "execution_count": null,
      "outputs": [
        {
          "output_type": "stream",
          "name": "stdout",
          "text": [
            "[1, 2, 3, 8, 5]\n"
          ]
        }
      ]
    },
    {
      "cell_type": "code",
      "source": [
        "b[2] = 8"
      ],
      "metadata": {
        "colab": {
          "base_uri": "https://localhost:8080/",
          "height": 141
        },
        "id": "wB1eIjdfIjw8",
        "outputId": "f0c0fcfb-7236-4fcb-8292-1b06423e749c"
      },
      "execution_count": null,
      "outputs": [
        {
          "output_type": "error",
          "ename": "TypeError",
          "evalue": "'tuple' object does not support item assignment",
          "traceback": [
            "\u001b[0;31m---------------------------------------------------------------------------\u001b[0m",
            "\u001b[0;31mTypeError\u001b[0m                                 Traceback (most recent call last)",
            "\u001b[0;32m<ipython-input-22-6aa0589754cf>\u001b[0m in \u001b[0;36m<cell line: 1>\u001b[0;34m()\u001b[0m\n\u001b[0;32m----> 1\u001b[0;31m \u001b[0mb\u001b[0m\u001b[0;34m[\u001b[0m\u001b[0;36m2\u001b[0m\u001b[0;34m]\u001b[0m \u001b[0;34m=\u001b[0m \u001b[0;36m8\u001b[0m\u001b[0;34m\u001b[0m\u001b[0;34m\u001b[0m\u001b[0m\n\u001b[0m",
            "\u001b[0;31mTypeError\u001b[0m: 'tuple' object does not support item assignment"
          ]
        }
      ]
    },
    {
      "cell_type": "code",
      "source": [
        "#Write a program to demonstrate the use of logical operators\n",
        "x = 2\n",
        "y = 2\n",
        "if x > 0 and y > 0:\n",
        "        print(\"Both x = {x} and y = {y} are greater than 0 \")"
      ],
      "metadata": {
        "id": "i2GtIqqNIspP",
        "colab": {
          "base_uri": "https://localhost:8080/"
        },
        "outputId": "982ad044-3989-4169-fdbb-ac31d3580ae0"
      },
      "execution_count": null,
      "outputs": [
        {
          "output_type": "stream",
          "name": "stdout",
          "text": [
            "Both x = {x} and y = {y} are greater than 0 \n"
          ]
        }
      ]
    },
    {
      "cell_type": "code",
      "source": [
        "if x > 0 or y > 0:\n",
        "        print(f\"At least one of x = {x} or y = {y} is greater than 0\")"
      ],
      "metadata": {
        "colab": {
          "base_uri": "https://localhost:8080/"
        },
        "id": "DPJhWf7QYHfp",
        "outputId": "a2e896d0-f5d9-4aa5-e395-64039b784768"
      },
      "execution_count": null,
      "outputs": [
        {
          "output_type": "stream",
          "name": "stdout",
          "text": [
            "At least one of x = 2 or y = 2 is greater than 0\n"
          ]
        }
      ]
    },
    {
      "cell_type": "code",
      "source": [
        "if not (x < 0):\n",
        "        print(\"x = {x} is not less than 0\")"
      ],
      "metadata": {
        "colab": {
          "base_uri": "https://localhost:8080/"
        },
        "id": "IKqmW0glVacM",
        "outputId": "c1a7de1d-64a1-4bd3-f233-fb845bf1fb83"
      },
      "execution_count": null,
      "outputs": [
        {
          "output_type": "stream",
          "name": "stdout",
          "text": [
            "x = {x} is not less than 0\n"
          ]
        }
      ]
    },
    {
      "cell_type": "code",
      "source": [
        "#Write a Python program to convert user input from string to integer, float, and boolean types\n",
        "a = \"2\""
      ],
      "metadata": {
        "id": "hCuphfgZXap-"
      },
      "execution_count": null,
      "outputs": []
    },
    {
      "cell_type": "code",
      "source": [
        "type(a)"
      ],
      "metadata": {
        "colab": {
          "base_uri": "https://localhost:8080/"
        },
        "id": "XTnPzymaZG_V",
        "outputId": "2e7c05c0-5fcb-4d0a-b119-70977fd3d72b"
      },
      "execution_count": null,
      "outputs": [
        {
          "output_type": "execute_result",
          "data": {
            "text/plain": [
              "str"
            ]
          },
          "metadata": {},
          "execution_count": 18
        }
      ]
    },
    {
      "cell_type": "code",
      "source": [
        "int(a)"
      ],
      "metadata": {
        "colab": {
          "base_uri": "https://localhost:8080/"
        },
        "id": "AoOODldIZVi7",
        "outputId": "3718521b-9812-47fb-b54d-117c13671b91"
      },
      "execution_count": null,
      "outputs": [
        {
          "output_type": "execute_result",
          "data": {
            "text/plain": [
              "2"
            ]
          },
          "metadata": {},
          "execution_count": 21
        }
      ]
    },
    {
      "cell_type": "code",
      "source": [
        "float(a)"
      ],
      "metadata": {
        "colab": {
          "base_uri": "https://localhost:8080/"
        },
        "id": "B0nGzFuTZXSJ",
        "outputId": "5f7b9717-791e-4567-cd1e-55ca24cdc6f2"
      },
      "execution_count": null,
      "outputs": [
        {
          "output_type": "execute_result",
          "data": {
            "text/plain": [
              "2.0"
            ]
          },
          "metadata": {},
          "execution_count": 23
        }
      ]
    },
    {
      "cell_type": "code",
      "source": [
        "bool(a)"
      ],
      "metadata": {
        "colab": {
          "base_uri": "https://localhost:8080/"
        },
        "id": "mrqp4St-ZY0L",
        "outputId": "84fb1da6-ed13-4644-8145-7914a7df0929"
      },
      "execution_count": null,
      "outputs": [
        {
          "output_type": "execute_result",
          "data": {
            "text/plain": [
              "True"
            ]
          },
          "metadata": {},
          "execution_count": 24
        }
      ]
    },
    {
      "cell_type": "code",
      "source": [
        "#Write code to demonstrate type casting with list elements\n",
        "my_list = [10, 20.5, \"30\", True]\n",
        "print(my_list)"
      ],
      "metadata": {
        "colab": {
          "base_uri": "https://localhost:8080/"
        },
        "id": "V3JVxzUgopvV",
        "outputId": "1552ce25-63ec-4dfc-89a4-67f442b6c371"
      },
      "execution_count": null,
      "outputs": [
        {
          "output_type": "stream",
          "name": "stdout",
          "text": [
            "[10, 20.5, '30', True]\n"
          ]
        }
      ]
    },
    {
      "cell_type": "code",
      "source": [
        "#convert each element to integer\n",
        "int_list = [int(x) for x in my_list]\n",
        "print(int_list)"
      ],
      "metadata": {
        "colab": {
          "base_uri": "https://localhost:8080/"
        },
        "id": "j11p2OJbpLN1",
        "outputId": "7ad8e174-91f7-4402-d133-581eddb623b9"
      },
      "execution_count": null,
      "outputs": [
        {
          "output_type": "stream",
          "name": "stdout",
          "text": [
            "[10, 20, 30, 1]\n"
          ]
        }
      ]
    },
    {
      "cell_type": "code",
      "source": [
        "#convert each element to float\n",
        "float_list = [float(x) for x in my_list]\n",
        "print(float_list)"
      ],
      "metadata": {
        "colab": {
          "base_uri": "https://localhost:8080/"
        },
        "id": "kP3ryFS-pYk6",
        "outputId": "5f92fa12-bb97-4d1f-a2ba-dff07edd8988"
      },
      "execution_count": null,
      "outputs": [
        {
          "output_type": "stream",
          "name": "stdout",
          "text": [
            "[10.0, 20.5, 30.0, 1.0]\n"
          ]
        }
      ]
    },
    {
      "cell_type": "code",
      "source": [
        "#convert each element to string\n",
        "str_list = [str(x) for x in my_list]\n",
        "print(str_list)"
      ],
      "metadata": {
        "colab": {
          "base_uri": "https://localhost:8080/"
        },
        "id": "gsCN3Iq6qARI",
        "outputId": "9ea83bf5-8097-4e64-c606-df7ca88fbc9b"
      },
      "execution_count": null,
      "outputs": [
        {
          "output_type": "stream",
          "name": "stdout",
          "text": [
            "['10', '20.5', '30', 'True']\n"
          ]
        }
      ]
    },
    {
      "cell_type": "code",
      "source": [
        "#Write a program that checks if a number is positive, negative, or zero0\n",
        "x = int(input(\"number:\"))\n",
        "if x>0:\n",
        "  print(\"positive number\")\n",
        "elif x == 0:\n",
        "  print(\"zero number\")\n",
        "else :\n",
        "  print(\"negative number\")"
      ],
      "metadata": {
        "colab": {
          "base_uri": "https://localhost:8080/"
        },
        "id": "SnuqOlz1qSD3",
        "outputId": "d51fad3e-f227-44c1-c050-69b9880cd9b3"
      },
      "execution_count": null,
      "outputs": [
        {
          "output_type": "stream",
          "name": "stdout",
          "text": [
            "number:10\n",
            "positive number\n"
          ]
        }
      ]
    },
    {
      "cell_type": "code",
      "source": [
        "#Write a for loop to print numbers from 1 to 10\n",
        "for i in range (1,11):\n",
        "  print(i)"
      ],
      "metadata": {
        "colab": {
          "base_uri": "https://localhost:8080/"
        },
        "id": "CtPHgszvqiR-",
        "outputId": "d303de1e-e12d-44ec-82e1-2f766b2004cd"
      },
      "execution_count": null,
      "outputs": [
        {
          "output_type": "stream",
          "name": "stdout",
          "text": [
            "1\n",
            "2\n",
            "3\n",
            "4\n",
            "5\n",
            "6\n",
            "7\n",
            "8\n",
            "9\n",
            "10\n"
          ]
        }
      ]
    },
    {
      "cell_type": "code",
      "source": [
        "#Write a Python program to find the sum of all even numbers between 1 and 50\n",
        "total_sum=0\n",
        "for number in range(2, 51, 2):  # Iterate through even numbers from 2 to 50\n",
        "    total_sum += number  # Add each even number to the total_sum\n",
        "\n",
        "print(\"The sum of all even numbers between 1 and 50 is:\", total_sum) # Print the result"
      ],
      "metadata": {
        "colab": {
          "base_uri": "https://localhost:8080/"
        },
        "id": "1Vbr9Mn8s2B9",
        "outputId": "6868ed85-f8c2-47f6-c9f9-8eef05676fb3"
      },
      "execution_count": null,
      "outputs": [
        {
          "output_type": "stream",
          "name": "stdout",
          "text": [
            "The sum of all even numbers between 1 and 50 is: 650\n"
          ]
        }
      ]
    },
    {
      "cell_type": "code",
      "source": [
        "#Write a program to reverse a string using a while loop\n",
        "# Input string\n",
        "input_string = \"hello\"\n",
        "\n",
        "# Initialize an empty string to store the reversed string\n",
        "reversed_string = \"\"\n",
        "\n",
        "# Initialize an index to the last character of the input string\n",
        "index = len(input_string) - 1\n",
        "\n",
        "# While loop to reverse the string\n",
        "while index >= 0:\n",
        "    # Add the character at the current index to the reversed string\n",
        "    reversed_string += input_string[index]\n",
        "    # Decrement the index to move towards the beginning of the string\n",
        "    index -= 1\n",
        "\n",
        "# Print the reversed string\n",
        "print(\"Reversed string:\", reversed_string)"
      ],
      "metadata": {
        "colab": {
          "base_uri": "https://localhost:8080/"
        },
        "id": "6s7rOy7Ptgel",
        "outputId": "e06027f9-84f3-43f0-93a1-3cfaf0b4f72f"
      },
      "execution_count": 1,
      "outputs": [
        {
          "output_type": "stream",
          "name": "stdout",
          "text": [
            "Reversed string: olleh\n"
          ]
        }
      ]
    },
    {
      "cell_type": "code",
      "source": [
        "# Write a Python program to calculate the factorial of a number provided by the user using a while loop.\n",
        "# Get user input\n",
        "number = int(input(\"Enter a number: \"))\n",
        "\n",
        "# Initialize variables\n",
        "factorial = 1\n",
        "counter = number\n",
        "\n",
        "# Calculate the factorial using a while loop\n",
        "while counter > 0:\n",
        "    factorial *= counter\n",
        "    counter -= 1\n",
        "\n",
        "# Print the result\n",
        "print(f\"The factorial of {number} is {factorial}\")"
      ],
      "metadata": {
        "id": "69Hhp0x3un38",
        "colab": {
          "base_uri": "https://localhost:8080/"
        },
        "outputId": "ffadadf9-f534-4e65-e4f3-a2d650639cc8"
      },
      "execution_count": 2,
      "outputs": [
        {
          "output_type": "stream",
          "name": "stdout",
          "text": [
            "Enter a number: 5\n",
            "The factorial of 5 is 120\n"
          ]
        }
      ]
    },
    {
      "cell_type": "code",
      "source": [],
      "metadata": {
        "id": "PX8_J8lds9cT"
      },
      "execution_count": null,
      "outputs": []
    }
  ]
}