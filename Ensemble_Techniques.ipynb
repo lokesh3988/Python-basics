{
 "cells": [
  {
   "cell_type": "markdown",
   "metadata": {},
   "source": [
    "# Theoretical Question"
   ]
  },
  {
   "cell_type": "markdown",
   "metadata": {},
   "source": [
    "Q1. Can we use Bagging for regression problems?  \n",
    "- Yes, Bagging (Bootstrap Aggregating) can be used for regression problems. In regression, the Bagging technique typically uses **Decision Tree Regressors** as base learners and averages their predictions to improve stability and accuracy.  \n",
    "\n",
    "**Example:** A **Bagging Regressor** can be used in **house price prediction**, where multiple decision trees are trained on bootstrapped samples of house features like area, location, and amenities, and their outputs are averaged to get a final price estimate.  \n",
    "\n",
    "-----------------------------------------------------------------\n",
    "\n",
    "Q2. What is the difference between multiple model training and single model training?  \n",
    "- **Single model training** involves using a single algorithm to learn patterns from the data, which may lead to overfitting or underfitting.  \n",
    "- **Multiple model training (Ensemble Learning)** combines several models to improve accuracy, reduce variance, and make the predictions more robust.  \n",
    "\n",
    "**Example:** A **single Decision Tree** may overfit the training data, while a **Random Forest (multiple decision trees combined)** generalizes better by averaging predictions.  \n",
    "\n",
    "-----------------------------------------------------------------\n",
    "\n",
    "Q3. Explain the concept of feature randomness in Random Forest.  \n",
    "- In **Random Forest**, feature randomness means that each tree is trained on a **random subset of features** instead of using all features. This increases model diversity and reduces correlation between trees, improving generalization.  \n",
    "\n",
    "**Example:** In a **medical diagnosis system**, if a dataset has features like age, weight, blood pressure, and cholesterol levels, each tree in the Random Forest might randomly select a subset (e.g., only age and blood pressure) to make its predictions.  \n",
    "\n",
    "-----------------------------------------------------------------\n",
    "\n",
    "Q4. What is OOB (Out-of-Bag) Score?  \n",
    "- The **Out-of-Bag (OOB) score** is an internal validation metric used in Bagging methods. It measures model performance without needing a separate validation set.  \n",
    "- Since each tree is trained on a bootstrap sample (random subset), the remaining samples (not selected) act as test data for evaluating the model’s performance.  \n",
    "\n",
    "**Example:** If a Random Forest model is trained on **1000 samples**, each tree might be trained on **700 samples**, leaving **300 OOB samples** to estimate accuracy.  \n",
    "\n",
    "-----------------------------------------------------------------\n",
    "\n",
    "Q5. How can you measure the importance of features in a Random Forest model?  \n",
    "- Feature importance in a **Random Forest** is measured using:  \n",
    "  1. **Gini Importance**: Measures how much each feature contributes to reducing impurity.  \n",
    "  2. **Permutation Importance**: Shuffles feature values and measures the effect on accuracy.  \n",
    "\n",
    "**Example:** In a **customer churn prediction model**, if **\"monthly bill amount\"** has the highest importance score, it means billing patterns strongly influence churn.  \n",
    "\n",
    "-----------------------------------------------------------------\n",
    "\n",
    "Q6. Explain the working principle of a Bagging Classifier.  \n",
    "- A **Bagging Classifier** trains multiple copies of a base model (e.g., Decision Trees) on **randomly bootstrapped** subsets of the training data and aggregates their predictions using majority voting (classification) or averaging (regression).  \n",
    "\n",
    "**Example:** A **Bagging Classifier using Decision Trees** can classify whether an email is spam or not, reducing variance by combining predictions from multiple trees.  \n",
    "\n",
    "-----------------------------------------------------------------\n",
    "\n",
    "Q7. How do you evaluate a Bagging Classifier's performance?  \n",
    "- A Bagging Classifier is evaluated using metrics like:  \n",
    "  - **Accuracy** (for classification)  \n",
    "  - **F1-score, Precision, Recall**  \n",
    "  - **Out-of-Bag (OOB) Score**  \n",
    "  - **ROC-AUC Score** for binary classification  \n",
    "\n",
    "**Example:** In a **fraud detection system**, an **ROC-AUC score of 0.98** indicates the model is highly effective in distinguishing fraudulent and legitimate transactions.  \n",
    "\n",
    "-----------------------------------------------------------------\n",
    "\n",
    "Q8. How does a Bagging Regressor work?  \n",
    "- A **Bagging Regressor** trains multiple base models (like Decision Trees) on different bootstrap samples and **averages** their predictions to improve accuracy and reduce overfitting.  \n",
    "\n",
    "**Example:** In a **stock price prediction** system, multiple Decision Tree Regressors analyze different market factors, and their predictions are averaged to get a stable forecast.  \n",
    "\n",
    "-----------------------------------------------------------------\n",
    "\n",
    "Q9. What is the main advantage of ensemble techniques?  \n",
    "- **Increased accuracy**: Combining multiple models reduces overfitting and improves generalization.  \n",
    "\n",
    "**Example:** A **Random Forest classifier** often outperforms a single Decision Tree because it reduces variance by averaging multiple models.  \n",
    "\n",
    "-----------------------------------------------------------------\n",
    "\n",
    "Q10. What is the main challenge of ensemble methods?  \n",
    "- **Computational complexity**: Training multiple models increases time and resource requirements.  \n",
    "\n",
    "**Example:** A **Gradient Boosting model** takes longer to train than a simple Decision Tree but achieves better accuracy.  \n",
    "\n",
    "-----------------------------------------------------------------\n",
    "\n",
    "Q11. Explain the key idea behind ensemble techniques.  \n",
    "- The key idea is to **combine multiple weak learners** to create a strong model that outperforms individual models.  \n",
    "\n",
    "**Example:** A **Voting Classifier** combines Logistic Regression, SVM, and Decision Trees to improve accuracy.  \n",
    "\n",
    "-----------------------------------------------------------------\n",
    "\n",
    "Q12. What is a Random Forest Classifier?  \n",
    "- A **Random Forest Classifier** is an ensemble learning algorithm that trains multiple decision trees on different data subsets and combines their results for improved accuracy.  \n",
    "\n",
    "**Example:** Used in **credit scoring models** to classify customers as high-risk or low-risk borrowers.  \n",
    "\n",
    "-----------------------------------------------------------------\n",
    "\n",
    "Q13. What are the main types of ensemble techniques?  \n",
    "- **Bagging**, **Boosting**, **Stacking**, **Blending**  \n",
    "\n",
    "**Example:** **Bagging** reduces variance, **Boosting** reduces bias, and **Stacking** combines different models.  \n",
    "\n",
    "-----------------------------------------------------------------\n",
    "\n",
    "Q14. What is ensemble learning in machine learning?  \n",
    "- Ensemble learning is the process of **combining multiple models** to improve predictive performance.  \n",
    "\n",
    "**Example:** A **Voting Classifier** that combines SVM, Decision Tree, and Logistic Regression.  \n",
    "\n",
    "-----------------------------------------------------------------\n",
    "\n",
    "Q15. When should we avoid using ensemble methods?  \n",
    "- When the dataset is **small** or the **base model is already highly accurate**, ensemble learning might not add significant benefits.  \n",
    "\n",
    "**Example:** For **simple datasets like Iris**, a single Decision Tree may be sufficient.  \n",
    "\n",
    "-----------------------------------------------------------------\n",
    "\n",
    "Q16. How does Bagging help in reducing overfitting?  \n",
    "- Bagging reduces overfitting by training multiple models on **different subsets** of data, preventing any single model from memorizing noise.  \n",
    "\n",
    "**Example:** **Random Forest** avoids overfitting better than a single Decision Tree.  \n",
    "\n",
    "-----------------------------------------------------------------\n",
    "\n",
    "Q17. Why is Random Forest better than a single Decision Tree?  \n",
    "- **Lower variance**, **better generalization**, **handles missing values better**  \n",
    "\n",
    "**Example:** Random Forest is **more accurate** for loan approval prediction than a single tree.  \n",
    "\n",
    "-----------------------------------------------------------------\n",
    "\n",
    "Q18. What is the role of bootstrap sampling in Bagging?  \n",
    "- Bootstrap sampling randomly selects samples **with replacement** to train each model on different data subsets.  \n",
    "\n",
    "**Example:** If we have **1000 samples**, each model might train on **700 random samples**, improving diversity.  \n",
    "\n",
    "-----------------------------------------------------------------\n",
    "\n",
    "Q19. What are some real-world applications of ensemble techniques?  \n",
    "- **Fraud detection**, **medical diagnosis**, **customer churn prediction**, **stock market prediction**  \n",
    "\n",
    "**Example:** Random Forest helps in **detecting fraudulent credit card transactions**.  \n",
    "\n",
    "-----------------------------------------------------------------\n",
    "\n",
    "Q20. What is the difference between Bagging and Boosting?  \n",
    "- **Bagging** reduces variance by training models independently and averaging their predictions.  \n",
    "- **Boosting** reduces bias by training models sequentially, correcting errors at each step.  \n",
    "\n",
    "**Example:** **Random Forest (Bagging)** vs. **XGBoost (Boosting)** in Kaggle competitions.  \n",
    "\n",
    "-----------------------------------------------------------------\n"
   ]
  },
  {
   "cell_type": "markdown",
   "metadata": {},
   "source": [
    "# Practical Questions"
   ]
  },
  {
   "cell_type": "code",
   "execution_count": null,
   "metadata": {},
   "outputs": [
    {
     "name": "stdout",
     "output_type": "stream",
     "text": [
      "Bagging Classifier Accuracy: 0.885\n"
     ]
    }
   ],
   "source": [
    "# Practical Questions  \n",
    "\n",
    "'''\n",
    "Q21. Train a Bagging Classifier using Decision Trees on a sample dataset and print model accuracy.\n",
    "'''\n",
    "'''\n",
    "Answer:-21\n",
    "'''\n",
    "from sklearn.ensemble import BaggingClassifier\n",
    "from sklearn.tree import DecisionTreeClassifier\n",
    "from sklearn.model_selection import train_test_split\n",
    "from sklearn.metrics import accuracy_score\n",
    "from sklearn.datasets import make_classification\n",
    "\n",
    "# Generating sample data\n",
    "X, y = make_classification(n_samples=1000, n_features=20, random_state=42)\n",
    "\n",
    "# Spliting data\n",
    "X_train, X_test, y_train, y_test = train_test_split(X, y, test_size=0.2, random_state=42)\n",
    "\n",
    "# Training Bagging Classifier\n",
    "bagging_clf = BaggingClassifier(estimator=DecisionTreeClassifier(), n_estimators=50, random_state=42)\n",
    "bagging_clf.fit(X_train, y_train)\n",
    "\n",
    "# Predicting and printing accuracy\n",
    "y_pred = bagging_clf.predict(X_test)\n",
    "print(\"Bagging Classifier Accuracy:\", accuracy_score(y_test, y_pred))"
   ]
  },
  {
   "cell_type": "code",
   "execution_count": null,
   "metadata": {},
   "outputs": [
    {
     "name": "stdout",
     "output_type": "stream",
     "text": [
      "Mean Squared Error: 2661.0958582947346\n"
     ]
    }
   ],
   "source": [
    "'''\n",
    "Q22. Train a Bagging Regressor using Decision Trees and evaluate using Mean Squared Error (MSE).\n",
    "'''\n",
    "'''\n",
    "Answer:-22\n",
    "'''\n",
    "from sklearn.ensemble import BaggingRegressor\n",
    "from sklearn.tree import DecisionTreeRegressor\n",
    "from sklearn.metrics import mean_squared_error\n",
    "from sklearn.datasets import make_regression\n",
    "\n",
    "# Generating sample data\n",
    "X, y = make_regression(n_samples=1000, n_features=10, noise=0.1, random_state=42)\n",
    "\n",
    "# Spliting data\n",
    "X_train, X_test, y_train, y_test = train_test_split(X, y, test_size=0.2, random_state=42)\n",
    "\n",
    "# Training Bagging Regressor\n",
    "bagging_reg = BaggingRegressor(estimator=DecisionTreeRegressor(), n_estimators=50, random_state=42)\n",
    "bagging_reg.fit(X_train, y_train)\n",
    "\n",
    "# Predicting and evaluating MSE\n",
    "y_pred = bagging_reg.predict(X_test)\n",
    "print(\"Mean Squared Error:\", mean_squared_error(y_test, y_pred))"
   ]
  },
  {
   "cell_type": "code",
   "execution_count": null,
   "metadata": {},
   "outputs": [
    {
     "name": "stdout",
     "output_type": "stream",
     "text": [
      "                    Feature  Importance\n",
      "23               worst area    0.153892\n",
      "27     worst concave points    0.144663\n",
      "7       mean concave points    0.106210\n",
      "20             worst radius    0.077987\n",
      "6            mean concavity    0.068001\n",
      "22          worst perimeter    0.067115\n",
      "2            mean perimeter    0.053270\n",
      "0               mean radius    0.048703\n",
      "3                 mean area    0.047555\n",
      "26          worst concavity    0.031802\n",
      "13               area error    0.022407\n",
      "21            worst texture    0.021749\n",
      "25        worst compactness    0.020266\n",
      "10             radius error    0.020139\n",
      "5          mean compactness    0.013944\n",
      "1              mean texture    0.013591\n",
      "12          perimeter error    0.011303\n",
      "24         worst smoothness    0.010644\n",
      "28           worst symmetry    0.010120\n",
      "16          concavity error    0.009386\n",
      "4           mean smoothness    0.007285\n",
      "19  fractal dimension error    0.005321\n",
      "15        compactness error    0.005253\n",
      "29  worst fractal dimension    0.005210\n",
      "11            texture error    0.004724\n",
      "14         smoothness error    0.004271\n",
      "18           symmetry error    0.004018\n",
      "9    mean fractal dimension    0.003886\n",
      "8             mean symmetry    0.003770\n",
      "17     concave points error    0.003513\n"
     ]
    }
   ],
   "source": [
    "'''\n",
    "Q23. Train a Random Forest Classifier on the Breast Cancer dataset and print feature importance scores.\n",
    "'''\n",
    "'''\n",
    "Answer:-23\n",
    "'''\n",
    "from sklearn.ensemble import RandomForestClassifier\n",
    "from sklearn.datasets import load_breast_cancer\n",
    "from sklearn.model_selection import train_test_split\n",
    "import pandas as pd\n",
    "\n",
    "# Load dataset\n",
    "data = load_breast_cancer()\n",
    "X, y = data.data, data.target\n",
    "\n",
    "# Spliting data\n",
    "X_train, X_test, y_train, y_test = train_test_split(X, y, test_size=0.2, random_state=42)\n",
    "\n",
    "# Training Random Forest Classifier\n",
    "rf_clf = RandomForestClassifier(n_estimators=100, random_state=42)\n",
    "rf_clf.fit(X_train, y_train)\n",
    "\n",
    "# Print feature importance\n",
    "feature_importance = pd.DataFrame({'Feature': data.feature_names, 'Importance': rf_clf.feature_importances_})\n",
    "print(feature_importance.sort_values(by='Importance', ascending=False))"
   ]
  },
  {
   "cell_type": "code",
   "execution_count": null,
   "metadata": {},
   "outputs": [
    {
     "name": "stdout",
     "output_type": "stream",
     "text": [
      "Decision Tree MSE: 6350.427786748267\n",
      "Random Forest MSE: 2621.419239142369\n"
     ]
    }
   ],
   "source": [
    "'''\n",
    "Q24. Train a Random Forest Regressor and compare its performance with a single Decision Tree.\n",
    "'''\n",
    "'''\n",
    "Answer:-24\n",
    "'''\n",
    "from sklearn.ensemble import RandomForestRegressor\n",
    "from sklearn.tree import DecisionTreeRegressor\n",
    "from sklearn.metrics import mean_squared_error\n",
    "from sklearn.datasets import make_regression\n",
    "\n",
    "# Generating sample data\n",
    "X, y = make_regression(n_samples=1000, n_features=10, noise=0.1, random_state=42)\n",
    "\n",
    "# Spliting data\n",
    "X_train, X_test, y_train, y_test = train_test_split(X, y, test_size=0.2, random_state=42)\n",
    "\n",
    "# Train Decision Tree Regressor\n",
    "dt_reg = DecisionTreeRegressor(random_state=42)\n",
    "dt_reg.fit(X_train, y_train)\n",
    "y_pred_dt = dt_reg.predict(X_test)\n",
    "\n",
    "# Training Random Forest Regressor\n",
    "rf_reg = RandomForestRegressor(n_estimators=100, random_state=42)\n",
    "rf_reg.fit(X_train, y_train)\n",
    "y_pred_rf = rf_reg.predict(X_test)\n",
    "\n",
    "# Compare performance\n",
    "print(\"Decision Tree MSE:\", mean_squared_error(y_test, y_pred_dt))\n",
    "print(\"Random Forest MSE:\", mean_squared_error(y_test, y_pred_rf))"
   ]
  },
  {
   "cell_type": "code",
   "execution_count": null,
   "metadata": {},
   "outputs": [
    {
     "name": "stdout",
     "output_type": "stream",
     "text": [
      "Out-of-Bag (OOB) Score: 0.9560439560439561\n"
     ]
    }
   ],
   "source": [
    "'''\n",
    "Q25. Compute the Out-of-Bag (OOB) Score for a Random Forest Classifier.\n",
    "'''\n",
    "'''\n",
    "Answer:-25\n",
    "'''\n",
    "from sklearn.ensemble import RandomForestClassifier\n",
    "from sklearn.datasets import load_breast_cancer\n",
    "from sklearn.model_selection import train_test_split\n",
    "\n",
    "# Load dataset\n",
    "data = load_breast_cancer()\n",
    "X, y = data.data, data.target\n",
    "\n",
    "# Spliting data\n",
    "X_train, X_test, y_train, y_test = train_test_split(X, y, test_size=0.2, random_state=42)\n",
    "\n",
    "# Training Random Forest Classifier with OOB score enabled\n",
    "rf_clf = RandomForestClassifier(n_estimators=100, oob_score=True, random_state=42)\n",
    "rf_clf.fit(X_train, y_train)\n",
    "\n",
    "# Print OOB score\n",
    "print(\"Out-of-Bag (OOB) Score:\", rf_clf.oob_score_)"
   ]
  },
  {
   "cell_type": "code",
   "execution_count": null,
   "metadata": {},
   "outputs": [
    {
     "name": "stdout",
     "output_type": "stream",
     "text": [
      "Bagging SVM Classifier Accuracy: 0.855\n"
     ]
    }
   ],
   "source": [
    "'''\n",
    "Q26. Train a Bagging Classifier using SVM as a base estimator and print accuracy.\n",
    "'''\n",
    "'''\n",
    "Answer:-26\n",
    "'''\n",
    "from sklearn.ensemble import BaggingClassifier\n",
    "from sklearn.svm import SVC\n",
    "from sklearn.metrics import accuracy_score\n",
    "from sklearn.datasets import make_classification\n",
    "\n",
    "# Generating sample data\n",
    "X, y = make_classification(n_samples=1000, n_features=20, random_state=42)\n",
    "\n",
    "# Spliting data\n",
    "X_train, X_test, y_train, y_test = train_test_split(X, y, test_size=0.2, random_state=42)\n",
    "\n",
    "# Training Bagging Classifier with SVM as base estimator\n",
    "bagging_svm = BaggingClassifier(estimator=SVC(), n_estimators=50, random_state=42)\n",
    "bagging_svm.fit(X_train, y_train)\n",
    "\n",
    "# Predicting and printing accuracy\n",
    "y_pred = bagging_svm.predict(X_test)\n",
    "print(\"Bagging SVM Classifier Accuracy:\", accuracy_score(y_test, y_pred))"
   ]
  },
  {
   "cell_type": "code",
   "execution_count": 11,
   "metadata": {},
   "outputs": [
    {
     "name": "stdout",
     "output_type": "stream",
     "text": [
      "Random Forest (10 trees) Accuracy: 0.855\n",
      "Random Forest (50 trees) Accuracy: 0.88\n",
      "Random Forest (100 trees) Accuracy: 0.9\n",
      "Random Forest (200 trees) Accuracy: 0.89\n"
     ]
    }
   ],
   "source": [
    "'''\n",
    "Q27. Train a Random Forest Classifier with different numbers of trees and compare accuracy.\n",
    "'''\n",
    "'''\n",
    "Answer:-27\n",
    "'''\n",
    "from sklearn.ensemble import RandomForestClassifier\n",
    "from sklearn.metrics import accuracy_score\n",
    "\n",
    "# Train models with different numbers of trees\n",
    "trees = [10, 50, 100, 200]\n",
    "for n in trees:\n",
    "    rf_clf = RandomForestClassifier(n_estimators=n, random_state=42)\n",
    "    rf_clf.fit(X_train, y_train)\n",
    "    y_pred = rf_clf.predict(X_test)\n",
    "    print(f\"Random Forest ({n} trees) Accuracy:\", accuracy_score(y_test, y_pred))"
   ]
  },
  {
   "cell_type": "code",
   "execution_count": null,
   "metadata": {},
   "outputs": [
    {
     "name": "stdout",
     "output_type": "stream",
     "text": [
      "AUC Score: 0.9219173952366597\n"
     ]
    }
   ],
   "source": [
    "'''\n",
    "Q28. Train a Bagging Classifier using Logistic Regression as a base estimator and print AUC score.\n",
    "'''\n",
    "'''\n",
    "Answer:-28\n",
    "'''\n",
    "from sklearn.linear_model import LogisticRegression\n",
    "from sklearn.metrics import roc_auc_score\n",
    "\n",
    "# Training Bagging Classifier with Logistic Regression\n",
    "bagging_lr = BaggingClassifier(estimator=LogisticRegression(), n_estimators=50, random_state=42)\n",
    "bagging_lr.fit(X_train, y_train)\n",
    "\n",
    "# Predict probabilities and print AUC score\n",
    "y_pred_prob = bagging_lr.predict_proba(X_test)[:, 1]\n",
    "print(\"AUC Score:\", roc_auc_score(y_test, y_pred_prob))"
   ]
  },
  {
   "cell_type": "code",
   "execution_count": null,
   "metadata": {},
   "outputs": [
    {
     "name": "stdout",
     "output_type": "stream",
     "text": [
      "Feature Importances: [0.00871783 0.0153229  0.01734636 0.01171458 0.01056074 0.62262553\n",
      " 0.01565511 0.01408617 0.01224897 0.01312505 0.0088828  0.02392149\n",
      " 0.01674666 0.01036746 0.12081239 0.01434272 0.0147293  0.01346628\n",
      " 0.02271187 0.0126158 ]\n"
     ]
    }
   ],
   "source": [
    "'''\n",
    "Q29. Train a Random Forest Regressor and analyze feature importance scores.\n",
    "'''\n",
    "'''\n",
    "Answer:-29\n",
    "'''\n",
    "from sklearn.ensemble import RandomForestRegressor\n",
    "\n",
    "# Training Random Forest Regressor\n",
    "rf_reg = RandomForestRegressor(n_estimators=100, random_state=42)\n",
    "rf_reg.fit(X_train, y_train)\n",
    "\n",
    "# Print feature importance scores\n",
    "feature_importances = rf_reg.feature_importances_\n",
    "print(\"Feature Importances:\", feature_importances)"
   ]
  },
  {
   "cell_type": "code",
   "execution_count": null,
   "metadata": {},
   "outputs": [
    {
     "name": "stdout",
     "output_type": "stream",
     "text": [
      "Bagging Classifier Accuracy: 0.885\n",
      "Random Forest Classifier Accuracy: 0.9\n"
     ]
    }
   ],
   "source": [
    "'''\n",
    "Q30. Train an ensemble model using both Bagging and Random Forest and compare accuracy.\n",
    "'''\n",
    "'''\n",
    "Answer:-30\n",
    "'''\n",
    "from sklearn.ensemble import BaggingClassifier\n",
    "\n",
    "# Training Bagging Classifier\n",
    "bagging_clf = BaggingClassifier(estimator=DecisionTreeClassifier(), n_estimators=50, random_state=42)\n",
    "bagging_clf.fit(X_train, y_train)\n",
    "y_pred_bagging = bagging_clf.predict(X_test)\n",
    "\n",
    "# Training Random Forest Classifier\n",
    "rf_clf = RandomForestClassifier(n_estimators=100, random_state=42)\n",
    "rf_clf.fit(X_train, y_train)\n",
    "y_pred_rf = rf_clf.predict(X_test)\n",
    "\n",
    "# Compare accuracy\n",
    "print(\"Bagging Classifier Accuracy:\", accuracy_score(y_test, y_pred_bagging))\n",
    "print(\"Random Forest Classifier Accuracy:\", accuracy_score(y_test, y_pred_rf))"
   ]
  },
  {
   "cell_type": "code",
   "execution_count": 17,
   "metadata": {},
   "outputs": [
    {
     "name": "stdout",
     "output_type": "stream",
     "text": [
      "Best Parameters: {'max_depth': None, 'min_samples_split': 5, 'n_estimators': 50}\n",
      "Best Accuracy: 0.89375\n"
     ]
    }
   ],
   "source": [
    "'''\n",
    "Q31. Train a Random Forest Classifier and tune hyperparameters using GridSearchCV.\n",
    "'''\n",
    "'''\n",
    "Answer:-31\n",
    "'''\n",
    "from sklearn.model_selection import GridSearchCV\n",
    "\n",
    "# Define parameter grid\n",
    "param_grid = {\n",
    "    'n_estimators': [50, 100, 200],\n",
    "    'max_depth': [None, 10, 20],\n",
    "    'min_samples_split': [2, 5, 10]\n",
    "}\n",
    "\n",
    "# Perform GridSearchCV\n",
    "grid_search = GridSearchCV(RandomForestClassifier(random_state=42), param_grid, cv=5, scoring='accuracy')\n",
    "grid_search.fit(X_train, y_train)\n",
    "\n",
    "# Print best parameters\n",
    "print(\"Best Parameters:\", grid_search.best_params_)\n",
    "print(\"Best Accuracy:\", grid_search.best_score_)"
   ]
  },
  {
   "cell_type": "code",
   "execution_count": 19,
   "metadata": {},
   "outputs": [
    {
     "name": "stdout",
     "output_type": "stream",
     "text": [
      "Bagging Regressor (10 estimators) MSE: 0.09740000000000001\n",
      "Bagging Regressor (50 estimators) MSE: 0.08930199999999999\n",
      "Bagging Regressor (100 estimators) MSE: 0.0862045\n"
     ]
    }
   ],
   "source": [
    "'''\n",
    "Q32. Train a Bagging Regressor with different numbers of base estimators and compare performance.\n",
    "'''\n",
    "'''\n",
    "Answer:-32\n",
    "'''\n",
    "from sklearn.ensemble import BaggingRegressor\n",
    "\n",
    "# Train models with different numbers of base estimators\n",
    "estimators = [10, 50, 100]\n",
    "for n in estimators:\n",
    "    bagging_reg = BaggingRegressor(estimator=DecisionTreeRegressor(), n_estimators=n, random_state=42)\n",
    "    bagging_reg.fit(X_train, y_train)\n",
    "    y_pred = bagging_reg.predict(X_test)\n",
    "    print(f\"Bagging Regressor ({n} estimators) MSE:\", mean_squared_error(y_test, y_pred))"
   ]
  },
  {
   "cell_type": "code",
   "execution_count": null,
   "metadata": {},
   "outputs": [
    {
     "name": "stdout",
     "output_type": "stream",
     "text": [
      "Misclassified Sample Indices: [  2   8  19  27  30  43  45  57  59  94  99 107 112 127 128 159 163 171\n",
      " 173 184]\n"
     ]
    }
   ],
   "source": [
    "'''\n",
    "Q33. Train a Random Forest Classifier and analyze misclassified samples.\n",
    "'''\n",
    "'''\n",
    "Answer:-33\n",
    "'''\n",
    "import numpy as np\n",
    "\n",
    "# Training Random Forest Classifier\n",
    "rf_clf.fit(X_train, y_train)\n",
    "y_pred = rf_clf.predict(X_test)\n",
    "\n",
    "# Identify misclassified samples\n",
    "misclassified_indices = np.where(y_pred != y_test)[0]\n",
    "print(\"Misclassified Sample Indices:\", misclassified_indices)"
   ]
  },
  {
   "cell_type": "code",
   "execution_count": null,
   "metadata": {},
   "outputs": [
    {
     "name": "stdout",
     "output_type": "stream",
     "text": [
      "Decision Tree Accuracy: 0.875\n",
      "Bagging Classifier Accuracy: 0.885\n"
     ]
    }
   ],
   "source": [
    "'''\n",
    "Q34. Train a Bagging Classifier and compare its performance with a single Decision Tree Classifier.\n",
    "'''\n",
    "'''\n",
    "Answer:-34\n",
    "'''\n",
    "# Train Decision Tree Classifier\n",
    "dt_clf = DecisionTreeClassifier(random_state=42)\n",
    "dt_clf.fit(X_train, y_train)\n",
    "y_pred_dt = dt_clf.predict(X_test)\n",
    "\n",
    "# Training Bagging Classifier\n",
    "bagging_clf.fit(X_train, y_train)\n",
    "y_pred_bagging = bagging_clf.predict(X_test)\n",
    "\n",
    "# Compare accuracy\n",
    "print(\"Decision Tree Accuracy:\", accuracy_score(y_test, y_pred_dt))\n",
    "print(\"Bagging Classifier Accuracy:\", accuracy_score(y_test, y_pred_bagging))"
   ]
  },
  {
   "cell_type": "code",
   "execution_count": null,
   "metadata": {},
   "outputs": [
    {
     "data": {
      "image/png": "[encoded data removed]",
      "text/plain": [
       "<Figure size 600x400 with 2 Axes>"
      ]
     },
     "metadata": {},
     "output_type": "display_data"
    }
   ],
   "source": [
    "'''\n",
    "Q35. Train a Random Forest Classifier and visualize the confusion matrix.\n",
    "'''\n",
    "'''\n",
    "Answer:-35\n",
    "'''\n",
    "from sklearn.metrics import confusion_matrix\n",
    "import seaborn as sns\n",
    "import matplotlib.pyplot as plt\n",
    "\n",
    "# Training Random Forest Classifier\n",
    "rf_clf.fit(X_train, y_train)\n",
    "y_pred = rf_clf.predict(X_test)\n",
    "\n",
    "# Compute confusion matrix\n",
    "conf_matrix = confusion_matrix(y_test, y_pred)\n",
    "\n",
    "# Plot confusion matrix\n",
    "plt.figure(figsize=(6, 4))\n",
    "sns.heatmap(conf_matrix, annot=True, cmap=\"Blues\", fmt=\"d\", xticklabels=data.target_names, yticklabels=data.target_names)\n",
    "plt.xlabel(\"Predicted\")\n",
    "plt.ylabel(\"Actual\")\n",
    "plt.title(\"Confusion Matrix\")\n",
    "plt.show()"
   ]
  },
  {
   "cell_type": "code",
   "execution_count": 23,
   "metadata": {},
   "outputs": [
    {
     "name": "stdout",
     "output_type": "stream",
     "text": [
      "Stacking Classifier Accuracy: 0.88\n"
     ]
    }
   ],
   "source": [
    "'''\n",
    "Q36. Train a Stacking Classifier using Decision Trees, SVM, and Logistic Regression, and compare accuracy.\n",
    "'''\n",
    "'''\n",
    "Answer:-36\n",
    "'''\n",
    "from sklearn.ensemble import StackingClassifier\n",
    "from sklearn.svm import SVC\n",
    "from sklearn.linear_model import LogisticRegression\n",
    "\n",
    "# Define base models\n",
    "base_models = [\n",
    "    ('dt', DecisionTreeClassifier(random_state=42)),\n",
    "    ('svm', SVC(probability=True, random_state=42))\n",
    "]\n",
    "\n",
    "# Define stacking classifier\n",
    "stacking_clf = StackingClassifier(estimators=base_models, final_estimator=LogisticRegression(), cv=5)\n",
    "stacking_clf.fit(X_train, y_train)\n",
    "\n",
    "# Evaluate model\n",
    "y_pred_stack = stacking_clf.predict(X_test)\n",
    "print(\"Stacking Classifier Accuracy:\", accuracy_score(y_test, y_pred_stack))"
   ]
  },
  {
   "cell_type": "code",
   "execution_count": null,
   "metadata": {},
   "outputs": [
    {
     "name": "stdout",
     "output_type": "stream",
     "text": [
      "Feature 5 Importance: 0.36313416663156434\n",
      "Feature 18 Importance: 0.17725205802107144\n",
      "Feature 1 Importance: 0.10181961980345643\n",
      "Feature 14 Importance: 0.07557533800559021\n",
      "Feature 11 Importance: 0.025690371835073535\n"
     ]
    }
   ],
   "source": [
    "'''\n",
    "Q37. Train a Random Forest Classifier and print the top 5 most important features.\n",
    "'''\n",
    "'''\n",
    "Answer:-37\n",
    "'''\n",
    "# Training Random Forest Classifier\n",
    "rf_clf.fit(X_train, y_train)\n",
    "\n",
    "# Get feature importance\n",
    "importances = rf_clf.feature_importances_\n",
    "sorted_indices = np.argsort(importances)[::-1]\n",
    "\n",
    "# Print top 5 features\n",
    "for i in range(5):\n",
    "    print(f\"Feature {sorted_indices[i]} Importance: {importances[sorted_indices[i]]}\")"
   ]
  },
  {
   "cell_type": "code",
   "execution_count": null,
   "metadata": {},
   "outputs": [
    {
     "name": "stdout",
     "output_type": "stream",
     "text": [
      "Precision: 0.9468085106382979\n",
      "Recall: 0.8317757009345794\n",
      "F1 Score: 0.8855721393034826\n"
     ]
    }
   ],
   "source": [
    "'''\n",
    "Q38. Train a Bagging Classifier and evaluate performance using Precision, Recall, and F1-score.\n",
    "'''\n",
    "'''\n",
    "Answer:-38\n",
    "'''\n",
    "from sklearn.metrics import precision_score, recall_score, f1_score\n",
    "\n",
    "# Training Bagging Classifier\n",
    "bagging_clf.fit(X_train, y_train)\n",
    "y_pred = bagging_clf.predict(X_test)\n",
    "\n",
    "# Print performance metrics\n",
    "print(\"Precision:\", precision_score(y_test, y_pred))\n",
    "print(\"Recall:\", recall_score(y_test, y_pred))\n",
    "print(\"F1 Score:\", f1_score(y_test, y_pred))"
   ]
  },
  {
   "cell_type": "code",
   "execution_count": 26,
   "metadata": {},
   "outputs": [
    {
     "name": "stdout",
     "output_type": "stream",
     "text": [
      "Max Depth 5: Accuracy = 0.88\n",
      "Max Depth 10: Accuracy = 0.885\n",
      "Max Depth 15: Accuracy = 0.895\n",
      "Max Depth None: Accuracy = 0.9\n"
     ]
    }
   ],
   "source": [
    "'''\n",
    "Q39. Train a Random Forest Classifier and analyze the effect of max_depth on accuracy.\n",
    "'''\n",
    "'''\n",
    "Answer:-39\n",
    "'''\n",
    "depth_values = [5, 10, 15, None]\n",
    "for depth in depth_values:\n",
    "    rf_clf = RandomForestClassifier(n_estimators=100, max_depth=depth, random_state=42)\n",
    "    rf_clf.fit(X_train, y_train)\n",
    "    y_pred = rf_clf.predict(X_test)\n",
    "    print(f\"Max Depth {depth}: Accuracy = {accuracy_score(y_test, y_pred)}\")"
   ]
  },
  {
   "cell_type": "code",
   "execution_count": 28,
   "metadata": {},
   "outputs": [
    {
     "name": "stdout",
     "output_type": "stream",
     "text": [
      "Base Estimator DecisionTreeRegressor: MSE = 0.08930199999999999\n",
      "Base Estimator KNeighborsRegressor: MSE = 0.13618856\n"
     ]
    }
   ],
   "source": [
    "'''\n",
    "Q40. Train a Bagging Regressor using different base estimators (DecisionTree and KNeighbors) and compare performance.\n",
    "'''\n",
    "'''\n",
    "Answer:-40\n",
    "'''\n",
    "from sklearn.neighbors import KNeighborsRegressor\n",
    "\n",
    "# Define base estimators\n",
    "base_estimators = [DecisionTreeRegressor(), KNeighborsRegressor()]\n",
    "\n",
    "# Train and compare\n",
    "for estimator in base_estimators:\n",
    "    bagging_reg = BaggingRegressor(estimator=estimator, n_estimators=50, random_state=42)\n",
    "    bagging_reg.fit(X_train, y_train)\n",
    "    y_pred = bagging_reg.predict(X_test)\n",
    "    print(f\"Base Estimator {estimator.__class__.__name__}: MSE = {mean_squared_error(y_test, y_pred)}\")"
   ]
  },
  {
   "cell_type": "code",
   "execution_count": null,
   "metadata": {},
   "outputs": [
    {
     "name": "stdout",
     "output_type": "stream",
     "text": [
      "ROC-AUC Score: 0.9379459350819013\n"
     ]
    }
   ],
   "source": [
    "'''\n",
    "Q41. Train a Random Forest Classifier and evaluate its performance using ROC-AUC Score.\n",
    "'''\n",
    "'''\n",
    "Answer:-41\n",
    "'''\n",
    "from sklearn.metrics import roc_auc_score\n",
    "\n",
    "# Training Random Forest Classifier\n",
    "rf_clf.fit(X_train, y_train)\n",
    "y_prob = rf_clf.predict_proba(X_test)[:, 1]\n",
    "\n",
    "# Compute ROC-AUC score\n",
    "print(\"ROC-AUC Score:\", roc_auc_score(y_test, y_prob))"
   ]
  },
  {
   "cell_type": "code",
   "execution_count": 30,
   "metadata": {},
   "outputs": [
    {
     "name": "stdout",
     "output_type": "stream",
     "text": [
      "Cross-Validation Accuracy Scores: [0.94  0.905 0.9   0.92  0.885]\n",
      "Mean Accuracy: 0.9099999999999999\n"
     ]
    }
   ],
   "source": [
    "'''\n",
    "Q42. Train a Bagging Classifier and evaluate its performance using cross-validation.\n",
    "'''\n",
    "'''\n",
    "Answer:-42\n",
    "'''\n",
    "from sklearn.model_selection import cross_val_score\n",
    "\n",
    "# Perform cross-validation\n",
    "cv_scores = cross_val_score(bagging_clf, X, y, cv=5, scoring=\"accuracy\")\n",
    "print(\"Cross-Validation Accuracy Scores:\", cv_scores)\n",
    "print(\"Mean Accuracy:\", np.mean(cv_scores))"
   ]
  },
  {
   "cell_type": "code",
   "execution_count": null,
   "metadata": {},
   "outputs": [
    {
     "data": {
      "image/png": "[encoded data removed]",
      "text/plain": [
       "<Figure size 640x480 with 1 Axes>"
      ]
     },
     "metadata": {},
     "output_type": "display_data"
    }
   ],
   "source": [
    "'''\n",
    "Q43. Train a Random Forest Classifier and plot the Precision-Recall curve.\n",
    "'''\n",
    "'''\n",
    "Answer:-43\n",
    "'''\n",
    "from sklearn.metrics import precision_recall_curve\n",
    "\n",
    "# Training Random Forest Classifier\n",
    "rf_clf.fit(X_train, y_train)\n",
    "y_prob = rf_clf.predict_proba(X_test)[:, 1]\n",
    "\n",
    "# Compute precision-recall curve\n",
    "precision, recall, _ = precision_recall_curve(y_test, y_prob)\n",
    "\n",
    "# Plot curve\n",
    "plt.plot(recall, precision, marker='.')\n",
    "plt.xlabel('Recall')\n",
    "plt.ylabel('Precision')\n",
    "plt.title('Precision-Recall Curve')\n",
    "plt.show()"
   ]
  },
  {
   "cell_type": "code",
   "execution_count": 32,
   "metadata": {},
   "outputs": [
    {
     "name": "stdout",
     "output_type": "stream",
     "text": [
      "Stacking Classifier Accuracy: 0.9\n"
     ]
    }
   ],
   "source": [
    "'''\n",
    "Q44. Train a Stacking Classifier with Random Forest and Logistic Regression and compare accuracy.\n",
    "'''\n",
    "'''\n",
    "Answer:-44\n",
    "'''\n",
    "# Define base models\n",
    "base_models = [\n",
    "    ('rf', RandomForestClassifier(n_estimators=100, random_state=42)),\n",
    "]\n",
    "\n",
    "# Define stacking classifier\n",
    "stacking_clf = StackingClassifier(estimators=base_models, final_estimator=LogisticRegression(), cv=5)\n",
    "stacking_clf.fit(X_train, y_train)\n",
    "\n",
    "# Evaluate model\n",
    "y_pred_stack = stacking_clf.predict(X_test)\n",
    "print(\"Stacking Classifier Accuracy:\", accuracy_score(y_test, y_pred_stack))"
   ]
  },
  {
   "cell_type": "code",
   "execution_count": 33,
   "metadata": {},
   "outputs": [
    {
     "name": "stdout",
     "output_type": "stream",
     "text": [
      "Bootstrap Sample 0.5: MSE = 0.09749000000000001\n",
      "Bootstrap Sample 0.7: MSE = 0.09098200000000001\n",
      "Bootstrap Sample 1.0: MSE = 0.08930199999999999\n"
     ]
    }
   ],
   "source": [
    "'''\n",
    "Q45. Train a Bagging Regressor with different levels of bootstrap samples and compare performance.\n",
    "'''\n",
    "'''\n",
    "Answer:-45\n",
    "'''\n",
    "# Train and compare different bootstrap sample sizes\n",
    "bootstrap_samples = [0.5, 0.7, 1.0]\n",
    "for sample_size in bootstrap_samples:\n",
    "    bagging_reg = BaggingRegressor(estimator=DecisionTreeRegressor(), n_estimators=50, max_samples=sample_size, random_state=42)\n",
    "    bagging_reg.fit(X_train, y_train)\n",
    "    y_pred = bagging_reg.predict(X_test)\n",
    "    print(f\"Bootstrap Sample {sample_size}: MSE = {mean_squared_error(y_test, y_pred)}\")"
   ]
  }
 ],
 "metadata": {
  "kernelspec": {
   "display_name": "Python 3",
   "language": "python",
   "name": "python3"
  },
  "language_info": {
   "codemirror_mode": {
    "name": "ipython",
    "version": 3
   },
   "file_extension": ".py",
   "mimetype": "text/x-python",
   "name": "python",
   "nbconvert_exporter": "python",
   "pygments_lexer": "ipython3",
   "version": "3.13.0"
  }
 },
 "nbformat": 4,
 "nbformat_minor": 2
}
